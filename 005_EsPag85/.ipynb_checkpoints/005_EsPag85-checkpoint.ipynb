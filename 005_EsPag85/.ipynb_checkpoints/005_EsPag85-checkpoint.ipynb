{
 "cells": [
  {
   "cell_type": "markdown",
   "id": "4e0381fe",
   "metadata": {},
   "source": [
    "# ShortCut"
   ]
  },
  {
   "cell_type": "markdown",
   "id": "026baad6",
   "metadata": {},
   "source": [
    "[![Immagine nel web](https://upload.wikimedia.org/wikipedia/commons/3/38/Jupyter_logo.svg)](https://jupyter-notebook.readthedocs.io/en/stable/)"
   ]
  },
  {
   "cell_type": "markdown",
   "id": "2bdc7e8d",
   "metadata": {},
   "source": [
    "## Le scorciatoie utili in command mode"
   ]
  },
  {
   "cell_type": "markdown",
   "id": "e8ddba98",
   "metadata": {},
   "source": [
    "Per poterle usare entrare in *command mode* con `ESC` (bordo blu)."
   ]
  },
  {
   "cell_type": "markdown",
   "id": "faeed75b",
   "metadata": {},
   "source": [
    "- `INVIO` entra in *editing mode*\n",
    "- `a` insierisce una nuova cella sopra (above) la corrente\n",
    "- `b` insierisce una nuova cella sotto (below) la corrente\n",
    "- `CTRL+INVIO` esegue la cella corrente e resta in essa\n",
    "- `SHIFT+INVIO` esegue la cella corrente e si sposta sulla successiva (se non c'è la crea)\n",
    "- `ALT+INVIO` esegue la cella corrente e ne crea una nuova sotto di essa\n",
    "- `m` traforma la cella corrente in tipo *Markdown*\n",
    "- `y` trasforma la cella corrente in tipo *Code*\n",
    "- ```d d``` elimina la cella corrente\n",
    "- `x` `c` `v` taglia o copia la cella corrente e la incolla nella cella sotto (`SHIFT+V` incolla la cella sopra)\n",
    "- `z` annulla l'ultima operazione\n",
    "- `FRECCIA SU` o `GIU` per spostarsi fra le celle"
   ]
  },
  {
   "cell_type": "markdown",
   "id": "93fbc26b",
   "metadata": {},
   "source": [
    "## Le scorciatoie utili in editing mode"
   ]
  },
  {
   "cell_type": "markdown",
   "id": "14cbe32b",
   "metadata": {},
   "source": [
    "__Le seguenti sono utili nelle celle di tipo *Code*__"
   ]
  },
  {
   "cell_type": "markdown",
   "id": "5eece8f3",
   "metadata": {},
   "source": [
    "1. `SHIFT+TAB` su u oggetto del codice mostra la documentazione (Docstring)\n",
    "2. `CTRL+SHIFT+-` divide la cella corrente nel punto dove si trova il cursore\n",
    "3. `Esc+F` apre la finestra di dialogo *Trova e sostituisci*\n",
    "4. `SHIFT+L` mostra i numeri di riga"
   ]
  },
  {
   "cell_type": "markdown",
   "id": "bc2ab1a2",
   "metadata": {},
   "source": [
    "## Altre scorciatoie utili"
   ]
  },
  {
   "cell_type": "markdown",
   "id": "818ccc65",
   "metadata": {},
   "source": [
    "|Modalità|Menu|Shortcut|Azione|\n",
    "|:-|:-:|:-:|:-|\n",
    "|indifferente|File|`CTRL + S`|Salva il contenuto|\n",
    "|Command mode|Kernel|`i i`|Interrompe l'esecuzione|\n",
    "|Command mode|Kernel|`0 0`|Interrompe l'esecuzione|\n",
    "|Command mode|Kernel|`h`|Vizualizza l'elenco delle shortcut|"
   ]
  }
 ],
 "metadata": {
  "kernelspec": {
   "display_name": "Python 3 (ipykernel)",
   "language": "python",
   "name": "python3"
  },
  "language_info": {
   "codemirror_mode": {
    "name": "ipython",
    "version": 3
   },
   "file_extension": ".py",
   "mimetype": "text/x-python",
   "name": "python",
   "nbconvert_exporter": "python",
   "pygments_lexer": "ipython3",
   "version": "3.9.12"
  }
 },
 "nbformat": 4,
 "nbformat_minor": 5
}
