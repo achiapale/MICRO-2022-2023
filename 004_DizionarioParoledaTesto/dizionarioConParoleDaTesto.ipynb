{
 "cells": [
  {
   "cell_type": "markdown",
   "id": "2f30d571",
   "metadata": {},
   "source": [
    "CREARE UN DIZIONARIO DOVE LE CHIAVI SONO LE SINGOLE PAROLE\n",
    "E IL VALORE E' IL NUMERO DELLE VOLTE IN CUI SI RITROVA LA PAROLA ALL'INTERNO DEL TESTO."
   ]
  },
  {
   "cell_type": "code",
   "execution_count": 92,
   "id": "5d7ebf10",
   "metadata": {},
   "outputs": [],
   "source": [
    "Dizionario = {}\n",
    "listaPunteggiatura = [\".\", \",\", \";\", \"!\", \"?\", \":\", \"(\", \")\"]"
   ]
  },
  {
   "cell_type": "code",
   "execution_count": 93,
   "id": "b2bf82d9",
   "metadata": {},
   "outputs": [],
   "source": [
    "def rimuoviPunteggiatura(testo, listaPunteggiatura):\n",
    "    for caratteri in listaPunteggiatura:\n",
    "        testo = testo.replace(caratteri, \" \")\n",
    "    return testo"
   ]
  },
  {
   "cell_type": "code",
   "execution_count": 94,
   "id": "e3bf8b1e",
   "metadata": {},
   "outputs": [],
   "source": [
    "#apro il file e metto le righe in una lista righe[]\n",
    "file = open(\"file.txt\", \"r\")\n",
    "testo = file.readlines()\n",
    "file.close()\n",
    "\n",
    "#elimino la punteggiatura\n",
    "testo = [rimuoviPunteggiatura(riga, listaPunteggiatura) for riga in testo]\n",
    "\n",
    "#splitto il testo\n",
    "testo = [riga[:-1].split(\" \") for riga in testo]"
   ]
  },
  {
   "cell_type": "code",
   "execution_count": 139,
   "id": "00d95a48",
   "metadata": {},
   "outputs": [],
   "source": [
    "listaParole = []\n",
    "#voglio trasformare la mia lista di liste in una lista di parole\n",
    "#scrivere in modo più coinciso\n",
    "for lista in testo:\n",
    "    for parola in lista:\n",
    "        if(parola != \" \" and parola != \"\"):\n",
    "            listaParole.append(parola.lower())"
   ]
  },
  {
   "cell_type": "code",
   "execution_count": 140,
   "id": "1edfc3cc",
   "metadata": {},
   "outputs": [],
   "source": [
    "#controllo se le parole sono nel dizionario\n",
    "#se c'è la aggiungo, altrimenti incremento il suo valore\n",
    "for parola in listaParole:\n",
    "    if parola not in Dizionario:\n",
    "        Dizionario[parola] = 1\n",
    "    else:\n",
    "        Dizionario[parola] +=1"
   ]
  },
  {
   "cell_type": "markdown",
   "id": "06ebe47f",
   "metadata": {},
   "source": [
    "creazione di un nuovo dizionario dove le chaivi sono le singole parole\n",
    "e i valori sono delle liste che contengono tutte le parole successive "
   ]
  },
  {
   "cell_type": "code",
   "execution_count": 142,
   "id": "5da07fd0",
   "metadata": {},
   "outputs": [],
   "source": [
    "#inizializzazione del nuovo dizionario\n",
    "dizionarioParoleSuccessive = {}"
   ]
  },
  {
   "cell_type": "code",
   "execution_count": 145,
   "id": "8734bc64",
   "metadata": {
    "scrolled": true
   },
   "outputs": [],
   "source": [
    "#ciclo su tutta la lista di parole fino al penultimo elemento\n",
    "for i,parola in enumerate(listaParole[:-1]):\n",
    "    #se la parola non si trova nel dizionario la aggiungo\n",
    "    if parola not in dizionarioParoleSuccessive:\n",
    "        parolaSuccessiva = listaParole[i+1]\n",
    "        dizionarioParoleSuccessive[parola] = [parolaSuccessiva]\n",
    "    #altrimenti faccio un append solo sulle parole successive che trovo\n",
    "    else:\n",
    "        dizionarioParoleSuccessive[parola].append(parolaSuccessiva)\n",
    " "
   ]
  }
 ],
 "metadata": {
  "kernelspec": {
   "display_name": "Python 3 (ipykernel)",
   "language": "python",
   "name": "python3"
  },
  "language_info": {
   "codemirror_mode": {
    "name": "ipython",
    "version": 3
   },
   "file_extension": ".py",
   "mimetype": "text/x-python",
   "name": "python",
   "nbconvert_exporter": "python",
   "pygments_lexer": "ipython3",
   "version": "3.9.12"
  }
 },
 "nbformat": 4,
 "nbformat_minor": 5
}
