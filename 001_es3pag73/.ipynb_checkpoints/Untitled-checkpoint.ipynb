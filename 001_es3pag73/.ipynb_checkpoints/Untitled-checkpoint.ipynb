{
 "cells": [
  {
   "cell_type": "code",
   "execution_count": 5,
   "id": "9ab6ff36",
   "metadata": {},
   "outputs": [],
   "source": [
    "#ES.13 PAG.73"
   ]
  },
  {
   "cell_type": "code",
   "execution_count": 19,
   "id": "cc4d2dc6",
   "metadata": {},
   "outputs": [],
   "source": [
    "class Robot:\n",
    "    def __init__(self, nome, massa, tipologia):\n",
    "        self.nome = nome\n",
    "        self.massa = massa\n",
    "        self.tipologia = tipologia\n",
    "    \n",
    "    def nomeRobot(self):\n",
    "        return f\"Nome robot: {self.nome}\"\n",
    "\n",
    "    def pericoloso(self):\n",
    "        if(self.massa >= 100 and self.tipologia == \"umanoide\"):\n",
    "            return f\"pericoloso\"\n",
    "        else:\n",
    "            return f\"non pericoloso\"\n"
   ]
  },
  {
   "cell_type": "code",
   "execution_count": 20,
   "id": "9dbaae3a",
   "metadata": {},
   "outputs": [],
   "source": [
    "robot1 = Robot(\"1\", 23, \"umanoide\")\n",
    "robot2 = Robot(\"2\", 123, \"non umanoide\")"
   ]
  },
  {
   "cell_type": "code",
   "execution_count": 21,
   "id": "4604a089",
   "metadata": {},
   "outputs": [
    {
     "data": {
      "text/plain": [
       "'Nome robot: 1'"
      ]
     },
     "execution_count": 21,
     "metadata": {},
     "output_type": "execute_result"
    }
   ],
   "source": [
    "robot1.nomeRobot()"
   ]
  },
  {
   "cell_type": "code",
   "execution_count": 22,
   "id": "ca8c1926",
   "metadata": {},
   "outputs": [
    {
     "data": {
      "text/plain": [
       "'non pericoloso'"
      ]
     },
     "execution_count": 22,
     "metadata": {},
     "output_type": "execute_result"
    }
   ],
   "source": [
    "robot1.pericoloso()"
   ]
  },
  {
   "cell_type": "code",
   "execution_count": 23,
   "id": "5e4a6ca2",
   "metadata": {},
   "outputs": [
    {
     "data": {
      "text/plain": [
       "'non pericoloso'"
      ]
     },
     "execution_count": 23,
     "metadata": {},
     "output_type": "execute_result"
    }
   ],
   "source": [
    "robot2.pericoloso()"
   ]
  },
  {
   "cell_type": "code",
   "execution_count": 24,
   "id": "87c93e75",
   "metadata": {},
   "outputs": [],
   "source": [
    "robot3 = Robot(\"3\", 134, \"umanoide\")"
   ]
  },
  {
   "cell_type": "code",
   "execution_count": 25,
   "id": "58cf48f6",
   "metadata": {},
   "outputs": [
    {
     "data": {
      "text/plain": [
       "'pericoloso'"
      ]
     },
     "execution_count": 25,
     "metadata": {},
     "output_type": "execute_result"
    }
   ],
   "source": [
    "robot3.pericoloso()"
   ]
  },
  {
   "cell_type": "code",
   "execution_count": null,
   "id": "cc411a8b",
   "metadata": {},
   "outputs": [],
   "source": []
  }
 ],
 "metadata": {
  "kernelspec": {
   "display_name": "Python 3 (ipykernel)",
   "language": "python",
   "name": "python3"
  },
  "language_info": {
   "codemirror_mode": {
    "name": "ipython",
    "version": 3
   },
   "file_extension": ".py",
   "mimetype": "text/x-python",
   "name": "python",
   "nbconvert_exporter": "python",
   "pygments_lexer": "ipython3",
   "version": "3.9.12"
  }
 },
 "nbformat": 4,
 "nbformat_minor": 5
}
