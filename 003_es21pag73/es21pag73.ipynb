{
 "cells": [
  {
   "cell_type": "code",
   "execution_count": 1,
   "id": "5d61bade",
   "metadata": {},
   "outputs": [],
   "source": [
    "#ES.21 PAG.73"
   ]
  },
  {
   "cell_type": "code",
   "execution_count": 22,
   "id": "98006787",
   "metadata": {},
   "outputs": [
    {
     "name": "stdout",
     "output_type": "stream",
     "text": [
      "Inserire una stringa: ciao a tutti\n"
     ]
    }
   ],
   "source": [
    "mystr = input(\"Inserire una stringa: \")"
   ]
  },
  {
   "cell_type": "code",
   "execution_count": 23,
   "id": "9b1f8ae4",
   "metadata": {},
   "outputs": [
    {
     "name": "stdout",
     "output_type": "stream",
     "text": [
      "c  ttt\n"
     ]
    }
   ],
   "source": [
    "l = [i for i in mystr if i != \"a\" and i != \"e\" and i != \"i\" and i != \"o\" and i != \"u\"]\n",
    "str = \"\".join(l)\n",
    "print(str)"
   ]
  },
  {
   "cell_type": "code",
   "execution_count": 24,
   "id": "cb693f43",
   "metadata": {},
   "outputs": [
    {
     "name": "stdout",
     "output_type": "stream",
     "text": [
      "c  ttt\n"
     ]
    }
   ],
   "source": [
    "#altro metodo\n",
    "vocali = [\"a\", \"e\", \"i\", \"o\", \"u\"]\n",
    "                                        #posso utilizzare not in per verificare se una variabile non si trova in una lista\n",
    "lista = [lettera for lettera in mystr if lettera not in vocali]\n",
    "str1 = \"\".join(lista)\n",
    "print(str1)"
   ]
  }
 ],
 "metadata": {
  "kernelspec": {
   "display_name": "Python 3 (ipykernel)",
   "language": "python",
   "name": "python3"
  },
  "language_info": {
   "codemirror_mode": {
    "name": "ipython",
    "version": 3
   },
   "file_extension": ".py",
   "mimetype": "text/x-python",
   "name": "python",
   "nbconvert_exporter": "python",
   "pygments_lexer": "ipython3",
   "version": "3.9.12"
  }
 },
 "nbformat": 4,
 "nbformat_minor": 5
}
