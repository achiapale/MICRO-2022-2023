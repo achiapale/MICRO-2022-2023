{
 "cells": [
  {
   "cell_type": "code",
   "execution_count": 1,
   "id": "5d61bade",
   "metadata": {},
   "outputs": [],
   "source": [
    "#ES.21 PAG.73"
   ]
  },
  {
   "cell_type": "code",
   "execution_count": 2,
   "id": "98006787",
   "metadata": {},
   "outputs": [],
   "source": [
    "mystr = \"ciao a tutti\""
   ]
  },
  {
   "cell_type": "code",
   "execution_count": 7,
   "id": "9b1f8ae4",
   "metadata": {},
   "outputs": [
    {
     "name": "stdout",
     "output_type": "stream",
     "text": [
      "['c', ' ', ' ', 't', 't', 't']\n"
     ]
    }
   ],
   "source": [
    "l = [i for i in mystr if i != \"a\" and i != \"e\" and i != \"i\" and i != \"o\" and i != \"u\"]\n",
    "print(l)"
   ]
  },
  {
   "cell_type": "code",
   "execution_count": null,
   "id": "cb693f43",
   "metadata": {},
   "outputs": [],
   "source": []
  }
 ],
 "metadata": {
  "kernelspec": {
   "display_name": "Python 3 (ipykernel)",
   "language": "python",
   "name": "python3"
  },
  "language_info": {
   "codemirror_mode": {
    "name": "ipython",
    "version": 3
   },
   "file_extension": ".py",
   "mimetype": "text/x-python",
   "name": "python",
   "nbconvert_exporter": "python",
   "pygments_lexer": "ipython3",
   "version": "3.9.12"
  }
 },
 "nbformat": 4,
 "nbformat_minor": 5
}
