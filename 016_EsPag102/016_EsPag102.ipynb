{
 "cells": [
  {
   "cell_type": "markdown",
   "id": "de295ca9",
   "metadata": {},
   "source": [
    "# ESERCIZIO GUIDATO DI PAGINA 102"
   ]
  },
  {
   "cell_type": "code",
   "execution_count": 1,
   "id": "734bad68",
   "metadata": {},
   "outputs": [],
   "source": [
    "import numpy as np\n",
    "import uuid"
   ]
  },
  {
   "cell_type": "code",
   "execution_count": 4,
   "id": "a9638690",
   "metadata": {},
   "outputs": [],
   "source": [
    "n_passeggeri = 20000\n",
    "temperature = np.random.normal(36.5, 0.25, n_passeggeri)\n",
    "identificativi = np.array([str(uuid.uuid4()) for _ in range(n_passeggeri)])"
   ]
  },
  {
   "cell_type": "code",
   "execution_count": 5,
   "id": "ab320556",
   "metadata": {},
   "outputs": [
    {
     "name": "stdout",
     "output_type": "stream",
     "text": [
      "[36.6071445  36.52126109 35.80829806 36.36161341 36.44810315]\n",
      "['30b7d94f-7028-4128-8d32-e37fc7a868b4'\n",
      " 'f8837231-b3bd-41a3-98b0-3f2e28095597'\n",
      " 'a03e84af-ce51-433c-9344-c80788a4dff4'\n",
      " 'ac603277-bde5-43f1-8293-399d26d0b86f'\n",
      " 'b557ffc6-7ee8-4f13-8c71-c1a39189f634']\n"
     ]
    }
   ],
   "source": [
    "print(temperature[:5])\n",
    "print(identificativi[:5])"
   ]
  }
 ],
 "metadata": {
  "kernelspec": {
   "display_name": "Python 3 (ipykernel)",
   "language": "python",
   "name": "python3"
  },
  "language_info": {
   "codemirror_mode": {
    "name": "ipython",
    "version": 3
   },
   "file_extension": ".py",
   "mimetype": "text/x-python",
   "name": "python",
   "nbconvert_exporter": "python",
   "pygments_lexer": "ipython3",
   "version": "3.9.12"
  }
 },
 "nbformat": 4,
 "nbformat_minor": 5
}
