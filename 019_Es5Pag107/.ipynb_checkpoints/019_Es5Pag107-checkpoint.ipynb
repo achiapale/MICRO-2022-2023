{
 "cells": [
  {
   "cell_type": "markdown",
   "id": "9de51059",
   "metadata": {},
   "source": [
    "# ESERCIZIO 5 PAGINA 107"
   ]
  },
  {
   "cell_type": "code",
   "execution_count": 26,
   "id": "5339e49d",
   "metadata": {},
   "outputs": [],
   "source": [
    "import numpy as np"
   ]
  },
  {
   "cell_type": "code",
   "execution_count": 27,
   "id": "f7f15f1b",
   "metadata": {},
   "outputs": [
    {
     "data": {
      "text/plain": [
       "array([8, 6, 1, 1, 7, 5, 0, 6, 6, 1, 5, 3, 8, 9, 5])"
      ]
     },
     "execution_count": 27,
     "metadata": {},
     "output_type": "execute_result"
    }
   ],
   "source": [
    "n = 15\n",
    "array = np.random.randint(0, 10, n)\n",
    "array"
   ]
  },
  {
   "cell_type": "code",
   "execution_count": 28,
   "id": "fcd16041",
   "metadata": {},
   "outputs": [],
   "source": [
    "array_posizioni = np.arange(0, n)"
   ]
  },
  {
   "cell_type": "code",
   "execution_count": 29,
   "id": "1ddf4027",
   "metadata": {},
   "outputs": [
    {
     "data": {
      "text/plain": [
       "array([ 1,  2,  5,  8, 10])"
      ]
     },
     "execution_count": 29,
     "metadata": {},
     "output_type": "execute_result"
    }
   ],
   "source": [
    "for i in range (0, n-1):\n",
    "    valoreDaConfrontare = array[i+1]\n",
    "    massimiLocali = np.logical_and(np.roll(array, -1) < valoreDaConfrontare, np.roll(array, -1) < valoreDaConfrontare)\n",
    "    \n",
    "array_posizioni[massimiLocali]"
   ]
  }
 ],
 "metadata": {
  "kernelspec": {
   "display_name": "Python 3 (ipykernel)",
   "language": "python",
   "name": "python3"
  },
  "language_info": {
   "codemirror_mode": {
    "name": "ipython",
    "version": 3
   },
   "file_extension": ".py",
   "mimetype": "text/x-python",
   "name": "python",
   "nbconvert_exporter": "python",
   "pygments_lexer": "ipython3",
   "version": "3.9.12"
  }
 },
 "nbformat": 4,
 "nbformat_minor": 5
}
