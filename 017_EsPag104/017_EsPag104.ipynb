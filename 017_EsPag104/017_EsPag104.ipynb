{
 "cells": [
  {
   "cell_type": "markdown",
   "id": "cd367eee",
   "metadata": {},
   "source": [
    "# ESERCIZIO GUIDATO PAGINA 104"
   ]
  },
  {
   "cell_type": "markdown",
   "id": "109308ec",
   "metadata": {},
   "source": [
    "## esercizio  1"
   ]
  },
  {
   "cell_type": "code",
   "execution_count": 3,
   "id": "dd8b19d8",
   "metadata": {},
   "outputs": [],
   "source": [
    "%timeit\n",
    "import random"
   ]
  },
  {
   "cell_type": "code",
   "execution_count": 4,
   "id": "c5e0f082",
   "metadata": {},
   "outputs": [],
   "source": [
    "posizione = 0\n",
    "numero_secondi = 5 * 24 * 60 * 60"
   ]
  },
  {
   "cell_type": "code",
   "execution_count": 5,
   "id": "b98bdda1",
   "metadata": {},
   "outputs": [
    {
     "name": "stdout",
     "output_type": "stream",
     "text": [
      "Spostamento totale accumulato rispetto alla posizione centrale: 682cm\n"
     ]
    }
   ],
   "source": [
    "for i in range(numero_secondi):\n",
    "    posizione += (2 * random.randint(0, 1)) - 1\n",
    "    \n",
    "print(f\"Spostamento totale accumulato rispetto alla posizione centrale: {posizione}cm\")"
   ]
  },
  {
   "cell_type": "markdown",
   "id": "a103740b",
   "metadata": {},
   "source": [
    "## esercizio 2"
   ]
  },
  {
   "cell_type": "code",
   "execution_count": 13,
   "id": "b3934dbc",
   "metadata": {},
   "outputs": [],
   "source": [
    "%timeit\n",
    "import numpy as np\n",
    "import random"
   ]
  },
  {
   "cell_type": "code",
   "execution_count": 14,
   "id": "611d3d9c",
   "metadata": {},
   "outputs": [
    {
     "name": "stdout",
     "output_type": "stream",
     "text": [
      "Spostamento totale accumulato rispetto alla posizione centrale: -282cm\n"
     ]
    }
   ],
   "source": [
    "numero_secondi = 5 * 24 * 60 * 60\n",
    "movimenti = np.random.choice([-1,+1], numero_secondi)\n",
    "posizione = np.sum(movimenti)\n",
    "print(f\"Spostamento totale accumulato rispetto alla posizione centrale: {posizione}cm\")"
   ]
  },
  {
   "cell_type": "code",
   "execution_count": null,
   "id": "b1ebecb0",
   "metadata": {},
   "outputs": [],
   "source": []
  }
 ],
 "metadata": {
  "kernelspec": {
   "display_name": "Python 3 (ipykernel)",
   "language": "python",
   "name": "python3"
  },
  "language_info": {
   "codemirror_mode": {
    "name": "ipython",
    "version": 3
   },
   "file_extension": ".py",
   "mimetype": "text/x-python",
   "name": "python",
   "nbconvert_exporter": "python",
   "pygments_lexer": "ipython3",
   "version": "3.9.12"
  }
 },
 "nbformat": 4,
 "nbformat_minor": 5
}
