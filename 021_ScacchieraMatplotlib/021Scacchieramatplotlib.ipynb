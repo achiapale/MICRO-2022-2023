{
 "cells": [
  {
   "cell_type": "markdown",
   "id": "5487c4c5",
   "metadata": {},
   "source": [
    "### CREARE UNA SCACCHIERA CON DEI QUADRATI DI LATO 50"
   ]
  },
  {
   "cell_type": "code",
   "execution_count": 2,
   "id": "c33f9994",
   "metadata": {},
   "outputs": [],
   "source": [
    "import numpy as np\n",
    "import matplotlib.pyplot as plt"
   ]
  },
  {
   "cell_type": "code",
   "execution_count": 18,
   "id": "cb9f4764",
   "metadata": {},
   "outputs": [
    {
     "data": {
      "text/plain": [
       "<matplotlib.image.AxesImage at 0x17b5a7b8b20>"
      ]
     },
     "execution_count": 18,
     "metadata": {},
     "output_type": "execute_result"
    },
    {
     "data": {
      "image/png": "[encoded data removed]",
      "text/plain": [
       "<Figure size 432x288 with 1 Axes>"
      ]
     },
     "metadata": {
      "needs_background": "light"
     },
     "output_type": "display_data"
    }
   ],
   "source": [
    "dim = 200\n",
    "immagine = np.ones((dim, dim))\n",
    "immagine[0:50, 0:50] = 0\n",
    "immagine[100:150, 0:50] = 0\n",
    "immagine[0:50, 100:150] = 0\n",
    "immagine[100:150, 100:150] = 0\n",
    "immagine[50:100, 50:100] = 0\n",
    "immagine[50: 100, 150:200] = 0\n",
    "immagine[150:200, 50:100] = 0\n",
    "immagine[150:200, 150:200] = 0\n",
    "plt.imshow(immagine, cmap = \"Greys\", vmin = 0, vmax = 1)\n"
   ]
  }
 ],
 "metadata": {
  "kernelspec": {
   "display_name": "Python 3 (ipykernel)",
   "language": "python",
   "name": "python3"
  },
  "language_info": {
   "codemirror_mode": {
    "name": "ipython",
    "version": 3
   },
   "file_extension": ".py",
   "mimetype": "text/x-python",
   "name": "python",
   "nbconvert_exporter": "python",
   "pygments_lexer": "ipython3",
   "version": "3.9.12"
  }
 },
 "nbformat": 4,
 "nbformat_minor": 5
}
