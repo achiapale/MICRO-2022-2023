{
 "cells": [
  {
   "cell_type": "code",
   "execution_count": 55,
   "id": "9c0b0ab7",
   "metadata": {},
   "outputs": [],
   "source": [
    "#ES.19 PAG.73"
   ]
  },
  {
   "cell_type": "code",
   "execution_count": 56,
   "id": "aa09c229",
   "metadata": {},
   "outputs": [],
   "source": [
    "import random\n",
    "import csv"
   ]
  },
  {
   "cell_type": "code",
   "execution_count": 57,
   "id": "7213d163",
   "metadata": {},
   "outputs": [],
   "source": [
    "facceDadi = 6\n",
    "numeroLanci = 10"
   ]
  },
  {
   "cell_type": "code",
   "execution_count": 58,
   "id": "2117a9ae",
   "metadata": {},
   "outputs": [
    {
     "name": "stdout",
     "output_type": "stream",
     "text": [
      "Alice:  [3, 3, 2, 6, 5, 2, 6, 5, 1, 4]\n",
      "Bob:  [3, 2, 1, 1, 6, 6, 6, 4, 6, 6]\n"
     ]
    }
   ],
   "source": [
    "lAlice = [random.randint(1, facceDadi) for _ in range(0,numeroLanci)]\n",
    "print(\"Alice: \", lAlice)\n",
    "lBob = [random.randint(1, facceDadi) for _ in range(0,numeroLanci)]\n",
    "print(\"Bob: \", lBob)"
   ]
  },
  {
   "cell_type": "code",
   "execution_count": 59,
   "id": "b018b508",
   "metadata": {},
   "outputs": [],
   "source": [
    "def creaFile():\n",
    "    with open(\"file.csv\", \"w\") as filecsv:\n",
    "        writer = csv.writer(filecsv)\n",
    "        writer.writeow([l_Alice], [l_Bob])"
   ]
  },
  {
   "cell_type": "code",
   "execution_count": 60,
   "id": "1c061615",
   "metadata": {},
   "outputs": [],
   "source": [
    "def toFile(lanci_A, lanci_B):\n",
    "    with open(\"lanciDado.csv\", \"a\") as filecsv:\n",
    "        writer = csv.writer(filecsv)\n",
    "        dati = (lanci_A, lanci_B)\n",
    "        writer.writerow(dati)\n",
    "        "
   ]
  },
  {
   "cell_type": "code",
   "execution_count": 61,
   "id": "6aef5b5c",
   "metadata": {},
   "outputs": [],
   "source": [
    "#zip è una funzione che permette di ciclare su più liste in parallelo\n",
    "for a,b in zip(lAlice, lBob):\n",
    "    toFile(a, b)"
   ]
  }
 ],
 "metadata": {
  "kernelspec": {
   "display_name": "Python 3 (ipykernel)",
   "language": "python",
   "name": "python3"
  },
  "language_info": {
   "codemirror_mode": {
    "name": "ipython",
    "version": 3
   },
   "file_extension": ".py",
   "mimetype": "text/x-python",
   "name": "python",
   "nbconvert_exporter": "python",
   "pygments_lexer": "ipython3",
   "version": "3.9.12"
  }
 },
 "nbformat": 4,
 "nbformat_minor": 5
}
