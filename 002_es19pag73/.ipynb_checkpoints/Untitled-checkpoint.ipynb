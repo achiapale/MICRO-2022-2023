{
 "cells": [
  {
   "cell_type": "code",
   "execution_count": 4,
   "id": "9c0b0ab7",
   "metadata": {},
   "outputs": [],
   "source": [
    "#ES.19 PAG.73"
   ]
  },
  {
   "cell_type": "code",
   "execution_count": 5,
   "id": "aa09c229",
   "metadata": {},
   "outputs": [],
   "source": [
    "import random"
   ]
  },
  {
   "cell_type": "code",
   "execution_count": 2,
   "id": "7213d163",
   "metadata": {},
   "outputs": [],
   "source": [
    "facceDadi = 6\n",
    "numeroLanci = 10"
   ]
  },
  {
   "cell_type": "code",
   "execution_count": 19,
   "id": "2117a9ae",
   "metadata": {},
   "outputs": [
    {
     "name": "stdout",
     "output_type": "stream",
     "text": [
      "Alice:  [1, 1, 5, 1, 2, 6, 2, 5, 1, 4]\n",
      "Bob:  [2, 3, 5, 5, 3, 2, 5, 4, 2, 6]\n"
     ]
    }
   ],
   "source": [
    "lAlice = [random.randint(1, facceDadi) for i in range(0,numeroLanci)]\n",
    "print(\"Alice: \", lAlice)\n",
    "lBob = [random.randint(1, facceDadi) for i in range(0,numeroLanci)]\n",
    "print(\"Bob: \", lBob)"
   ]
  },
  {
   "cell_type": "code",
   "execution_count": 24,
   "id": "b018b508",
   "metadata": {},
   "outputs": [
    {
     "name": "stdout",
     "output_type": "stream",
     "text": [
      "[0, 1, 0, 1, 0, 1, 0, 1, 0, 1, 0, 1, 0, 1, 0, 1, 0, 1, 0, 1]\n"
     ]
    }
   ],
   "source": [
    "file = open(\"file.csv\", \"w\")"
   ]
  },
  {
   "cell_type": "code",
   "execution_count": null,
   "id": "a1c6a8e6",
   "metadata": {},
   "outputs": [],
   "source": []
  },
  {
   "cell_type": "code",
   "execution_count": null,
   "id": "1c061615",
   "metadata": {},
   "outputs": [],
   "source": []
  }
 ],
 "metadata": {
  "kernelspec": {
   "display_name": "Python 3 (ipykernel)",
   "language": "python",
   "name": "python3"
  },
  "language_info": {
   "codemirror_mode": {
    "name": "ipython",
    "version": 3
   },
   "file_extension": ".py",
   "mimetype": "text/x-python",
   "name": "python",
   "nbconvert_exporter": "python",
   "pygments_lexer": "ipython3",
   "version": "3.9.12"
  }
 },
 "nbformat": 4,
 "nbformat_minor": 5
}
