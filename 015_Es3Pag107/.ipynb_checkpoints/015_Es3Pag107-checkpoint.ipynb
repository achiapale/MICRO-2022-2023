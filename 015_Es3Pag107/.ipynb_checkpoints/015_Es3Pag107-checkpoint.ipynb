{
 "cells": [
  {
   "cell_type": "markdown",
   "id": "fc6595de",
   "metadata": {},
   "source": [
    "# ESERCIZIO 3 PAGINA 107"
   ]
  },
  {
   "cell_type": "code",
   "execution_count": null,
   "id": "890381cd",
   "metadata": {},
   "outputs": [],
   "source": [
    "# considero 1 come croce e 0 come testa"
   ]
  },
  {
   "cell_type": "code",
   "execution_count": 32,
   "id": "18d4c742",
   "metadata": {},
   "outputs": [],
   "source": [
    "import numpy as np"
   ]
  },
  {
   "cell_type": "code",
   "execution_count": 65,
   "id": "e8182e73",
   "metadata": {},
   "outputs": [],
   "source": [
    "numPartite = 10000\n",
    "numLanci = 1000"
   ]
  },
  {
   "cell_type": "code",
   "execution_count": 66,
   "id": "fa1cea62",
   "metadata": {},
   "outputs": [
    {
     "data": {
      "text/plain": [
       "array([[0, 0, 1, ..., 1, 1, 0],\n",
       "       [0, 1, 0, ..., 1, 0, 0],\n",
       "       [0, 1, 1, ..., 0, 0, 0],\n",
       "       ...,\n",
       "       [0, 0, 0, ..., 0, 1, 0],\n",
       "       [0, 1, 1, ..., 0, 0, 0],\n",
       "       [1, 0, 0, ..., 0, 0, 1]])"
      ]
     },
     "execution_count": 66,
     "metadata": {},
     "output_type": "execute_result"
    }
   ],
   "source": [
    "lanci = np.random.randint(0, 2, (numPartite, numLanci))\n",
    "lanci"
   ]
  },
  {
   "cell_type": "code",
   "execution_count": 72,
   "id": "5c3e4276",
   "metadata": {},
   "outputs": [
    {
     "name": "stdout",
     "output_type": "stream",
     "text": [
      "562\n",
      "557\n",
      "551\n",
      "565\n"
     ]
    },
    {
     "data": {
      "text/plain": [
       "4"
      ]
     },
     "execution_count": 72,
     "metadata": {},
     "output_type": "execute_result"
    }
   ],
   "source": [
    "contaCroci = 0\n",
    "\n",
    "for lancio in lanci:\n",
    "    if np.count_nonzero(lancio) > 550:\n",
    "        contaCroci = contaCroci + 1\n",
    "        print(np.count_nonzero(lancio))"
   ]
  },
  {
   "cell_type": "code",
   "execution_count": null,
   "id": "7877426e",
   "metadata": {},
   "outputs": [],
   "source": []
  }
 ],
 "metadata": {
  "kernelspec": {
   "display_name": "Python 3 (ipykernel)",
   "language": "python",
   "name": "python3"
  },
  "language_info": {
   "codemirror_mode": {
    "name": "ipython",
    "version": 3
   },
   "file_extension": ".py",
   "mimetype": "text/x-python",
   "name": "python",
   "nbconvert_exporter": "python",
   "pygments_lexer": "ipython3",
   "version": "3.9.12"
  }
 },
 "nbformat": 4,
 "nbformat_minor": 5
}
