{
 "cells": [
  {
   "cell_type": "markdown",
   "id": "1473d753",
   "metadata": {},
   "source": [
    "# ESERCIZIO 6 PAGINA 107"
   ]
  },
  {
   "cell_type": "code",
   "execution_count": 6,
   "id": "9928059f",
   "metadata": {},
   "outputs": [],
   "source": [
    "import numpy as np"
   ]
  },
  {
   "cell_type": "code",
   "execution_count": 23,
   "id": "36673903",
   "metadata": {},
   "outputs": [
    {
     "data": {
      "text/plain": [
       "array([4, 5, 8, 9, 8, 1, 2, 3, 7, 9, 0, 3, 1, 8, 0])"
      ]
     },
     "execution_count": 23,
     "metadata": {},
     "output_type": "execute_result"
    }
   ],
   "source": [
    "# creo un array di n valori\n",
    "n = 15\n",
    "array = np.random.randint(0, 10, n)\n",
    "array"
   ]
  },
  {
   "cell_type": "code",
   "execution_count": 26,
   "id": "2b44d389",
   "metadata": {},
   "outputs": [
    {
     "data": {
      "text/plain": [
       "array([ 5, 12])"
      ]
     },
     "execution_count": 26,
     "metadata": {},
     "output_type": "execute_result"
    }
   ],
   "source": [
    "# costruisco un array di n valori per trovare la posizione dei valori nell'array\n",
    "array_posizioni = np.arange(0, n)\n",
    "# cerco la posizione di un valore all'interno dell'array\n",
    "array_posizioni[array == 1]"
   ]
  },
  {
   "cell_type": "code",
   "execution_count": 30,
   "id": "7567e617",
   "metadata": {},
   "outputs": [
    {
     "data": {
      "text/plain": [
       "array([False, False, False, False, False,  True, False, False, False,\n",
       "       False, False, False,  True, False, False])"
      ]
     },
     "execution_count": 30,
     "metadata": {},
     "output_type": "execute_result"
    }
   ],
   "source": [
    "# verifico quando nell'array si trova un uno\n",
    "array == 1"
   ]
  },
  {
   "cell_type": "code",
   "execution_count": 31,
   "id": "ce61027c",
   "metadata": {},
   "outputs": [
    {
     "data": {
      "text/plain": [
       "array([False, False, False, False, False,  True, False, False, False,\n",
       "       False, False, False, False, False, False])"
      ]
     },
     "execution_count": 31,
     "metadata": {},
     "output_type": "execute_result"
    }
   ],
   "source": [
    "# verifico se il valore successivo è il 2\n",
    "# utilizzo il roll spostando verso sinistra tutti i valori dell'array\n",
    "# (2 sarà nella posizione iniziale di 1)\n",
    "np.roll(array, -1) == 2"
   ]
  },
  {
   "cell_type": "code",
   "execution_count": 34,
   "id": "931bd701",
   "metadata": {},
   "outputs": [
    {
     "data": {
      "text/plain": [
       "array([False, False, False, False, False,  True, False, False, False,\n",
       "       False, False, False, False, False, False])"
      ]
     },
     "execution_count": 34,
     "metadata": {},
     "output_type": "execute_result"
    }
   ],
   "source": [
    "# creo la sequenza 12 facendo un and tra i due array\n",
    "# (che restituiscono true solo se entrambi sono true)\n",
    "sequenza12 = np.logical_and(array == 1, np.roll(array, -1) == 2)\n",
    "sequenza12"
   ]
  },
  {
   "cell_type": "code",
   "execution_count": 38,
   "id": "ded8eda2",
   "metadata": {},
   "outputs": [
    {
     "data": {
      "text/plain": [
       "array([5])"
      ]
     },
     "execution_count": 38,
     "metadata": {},
     "output_type": "execute_result"
    }
   ],
   "source": [
    "# stampo il valore nell'array dove la sequenza 12 è true\n",
    "array_posizioni[sequenza12]"
   ]
  },
  {
   "cell_type": "code",
   "execution_count": 40,
   "id": "cf0810d2",
   "metadata": {},
   "outputs": [
    {
     "data": {
      "text/plain": [
       "array([5])"
      ]
     },
     "execution_count": 40,
     "metadata": {},
     "output_type": "execute_result"
    }
   ],
   "source": [
    "# ripeto lo stesop rocedimento per il valore 3\n",
    "sequenza123 = np.logical_and(sequenza12, np.roll(array, -2) == 3)\n",
    "array_posizioni[sequenza123]"
   ]
  }
 ],
 "metadata": {
  "kernelspec": {
   "display_name": "Python 3 (ipykernel)",
   "language": "python",
   "name": "python3"
  },
  "language_info": {
   "codemirror_mode": {
    "name": "ipython",
    "version": 3
   },
   "file_extension": ".py",
   "mimetype": "text/x-python",
   "name": "python",
   "nbconvert_exporter": "python",
   "pygments_lexer": "ipython3",
   "version": "3.9.12"
  }
 },
 "nbformat": 4,
 "nbformat_minor": 5
}
