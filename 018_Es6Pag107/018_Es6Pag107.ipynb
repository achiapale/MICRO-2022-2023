{
 "cells": [
  {
   "cell_type": "markdown",
   "id": "1473d753",
   "metadata": {},
   "source": [
    "# ESERCIZIO 6 PAGINA 107"
   ]
  },
  {
   "cell_type": "code",
   "execution_count": 41,
   "id": "9928059f",
   "metadata": {},
   "outputs": [],
   "source": [
    "import numpy as np"
   ]
  },
  {
   "cell_type": "code",
   "execution_count": 42,
   "id": "36673903",
   "metadata": {},
   "outputs": [
    {
     "data": {
      "text/plain": [
       "array([9, 4, 0, 9, 6, 0, 1, 2, 7, 6, 6, 2, 4, 9, 7])"
      ]
     },
     "execution_count": 42,
     "metadata": {},
     "output_type": "execute_result"
    }
   ],
   "source": [
    "# creo un array di n valori\n",
    "n = 15\n",
    "array = np.random.randint(0, 10, n)\n",
    "array"
   ]
  },
  {
   "cell_type": "code",
   "execution_count": 43,
   "id": "fbdd4e25",
   "metadata": {},
   "outputs": [
    {
     "data": {
      "text/plain": [
       "array([6])"
      ]
     },
     "execution_count": 43,
     "metadata": {},
     "output_type": "execute_result"
    }
   ],
   "source": [
    "# costruisco un array di n valori per trovare la posizione dei valori nell'array\n",
    "array_posizioni = np.arange(0, n)\n",
    "# cerco la posizione di un valore all'interno dell'array\n",
    "array_posizioni[array == 1]"
   ]
  },
  {
   "cell_type": "code",
   "execution_count": 44,
   "id": "e990c173",
   "metadata": {},
   "outputs": [
    {
     "data": {
      "text/plain": [
       "array([False, False, False, False, False, False,  True, False, False,\n",
       "       False, False, False, False, False, False])"
      ]
     },
     "execution_count": 44,
     "metadata": {},
     "output_type": "execute_result"
    }
   ],
   "source": [
    "# verifico quando nell'array si trova un uno\n",
    "array == 1"
   ]
  },
  {
   "cell_type": "code",
   "execution_count": 45,
   "id": "68bc66ef",
   "metadata": {},
   "outputs": [
    {
     "data": {
      "text/plain": [
       "array([False, False, False, False, False, False,  True, False, False,\n",
       "       False,  True, False, False, False, False])"
      ]
     },
     "execution_count": 45,
     "metadata": {},
     "output_type": "execute_result"
    }
   ],
   "source": [
    "# verifico se il valore successivo è il 2\n",
    "# utilizzo il roll spostando verso sinistra tutti i valori dell'array\n",
    "# (2 sarà nella posizione iniziale di 1)\n",
    "np.roll(array, -1) == 2"
   ]
  },
  {
   "cell_type": "code",
   "execution_count": 46,
   "id": "b3a1eb36",
   "metadata": {},
   "outputs": [
    {
     "data": {
      "text/plain": [
       "array([False, False, False, False, False, False,  True, False, False,\n",
       "       False, False, False, False, False, False])"
      ]
     },
     "execution_count": 46,
     "metadata": {},
     "output_type": "execute_result"
    }
   ],
   "source": [
    "# creo la sequenza 12 facendo un and tra i due array\n",
    "# (che restituiscono true solo se entrambi sono true)\n",
    "sequenza12 = np.logical_and(array == 1, np.roll(array, -1) == 2)\n",
    "sequenza12"
   ]
  },
  {
   "cell_type": "code",
   "execution_count": 47,
   "id": "dc35e659",
   "metadata": {},
   "outputs": [
    {
     "data": {
      "text/plain": [
       "array([6])"
      ]
     },
     "execution_count": 47,
     "metadata": {},
     "output_type": "execute_result"
    }
   ],
   "source": [
    "# stampo il valore nell'array dove la sequenza 12 è true\n",
    "array_posizioni[sequenza12]"
   ]
  },
  {
   "cell_type": "code",
   "execution_count": 48,
   "id": "6bdbf2a4",
   "metadata": {},
   "outputs": [
    {
     "data": {
      "text/plain": [
       "array([], dtype=int32)"
      ]
     },
     "execution_count": 48,
     "metadata": {},
     "output_type": "execute_result"
    }
   ],
   "source": [
    "# ripeto lo stesop rocedimento per il valore 3\n",
    "sequenza123 = np.logical_and(sequenza12, np.roll(array, -2) == 3)\n",
    "array_posizioni[sequenza123]"
   ]
  }
 ],
 "metadata": {
  "kernelspec": {
   "display_name": "Python 3 (ipykernel)",
   "language": "python",
   "name": "python3"
  },
  "language_info": {
   "codemirror_mode": {
    "name": "ipython",
    "version": 3
   },
   "file_extension": ".py",
   "mimetype": "text/x-python",
   "name": "python",
   "nbconvert_exporter": "python",
   "pygments_lexer": "ipython3",
   "version": "3.9.12"
  }
 },
 "nbformat": 4,
 "nbformat_minor": 5
}
