{
 "cells": [
  {
   "cell_type": "markdown",
   "id": "71bb6ae2",
   "metadata": {},
   "source": [
    "# ESERCIZIO 4 PAGINA 107"
   ]
  },
  {
   "cell_type": "code",
   "execution_count": 1,
   "id": "1803a285",
   "metadata": {},
   "outputs": [],
   "source": [
    "# 1000 classi da 25 alunni ciascuna\n",
    "# ogni possibile data di nascita è un nnumero tra 1 e 365\n",
    "# trovare in quante classi ci sono almeno due alunni nati lo stesso giorno"
   ]
  },
  {
   "cell_type": "code",
   "execution_count": 30,
   "id": "445047e9",
   "metadata": {},
   "outputs": [],
   "source": [
    "import numpy as np"
   ]
  },
  {
   "cell_type": "code",
   "execution_count": 37,
   "id": "5afa98d0",
   "metadata": {},
   "outputs": [
    {
     "data": {
      "text/plain": [
       "(1000, 25)"
      ]
     },
     "execution_count": 37,
     "metadata": {},
     "output_type": "execute_result"
    }
   ],
   "source": [
    "nAlunni = 25\n",
    "\n",
    "# estraggo un giorno casuale per ogni alunno nella classe per 1000 volte\n",
    "# ogni riga è la data di nascita di ogni lunno di una signola classe\n",
    "classe = np.random.randint(1, 365, (1000, nAlunni))\n",
    "\n",
    "# stampo la dimensione della classe\n",
    "classe.shape"
   ]
  },
  {
   "cell_type": "code",
   "execution_count": 38,
   "id": "72dc0eda",
   "metadata": {},
   "outputs": [
    {
     "data": {
      "text/plain": [
       "array([[235, 319,  31, ..., 103, 183, 312],\n",
       "       [ 78, 235,  32, ...,  73, 290, 271],\n",
       "       [ 85,  72, 222, ..., 261, 327, 197],\n",
       "       ...,\n",
       "       [ 96, 330,  74, ..., 217, 340, 138],\n",
       "       [ 64, 190, 225, ..., 114, 338, 104],\n",
       "       [351, 198, 315, ...,   2, 329,   1]])"
      ]
     },
     "execution_count": 38,
     "metadata": {},
     "output_type": "execute_result"
    }
   ],
   "source": [
    "classe"
   ]
  },
  {
   "cell_type": "code",
   "execution_count": 39,
   "id": "24375d99",
   "metadata": {},
   "outputs": [
    {
     "data": {
      "text/plain": [
       "567"
      ]
     },
     "execution_count": 39,
     "metadata": {},
     "output_type": "execute_result"
    }
   ],
   "source": [
    "classiConDoppione = 0\n",
    "\n",
    "# ciclo su ogni classe e verifico che non ci siano doppioni con la funzione unique\n",
    "for c in classe:\n",
    "    # con lo shape vedo la dimensione (metto 0 per ottenre un numero e non una tupla)\n",
    "    if np.unique(c).shape[0] < nAlunni:\n",
    "        classiConDoppione= classiConDoppione + 1\n",
    "    \n",
    "    # altro metodo\n",
    "    # np.unique(classe, axis = 0)\n",
    "    \n",
    "classiConDoppione"
   ]
  }
 ],
 "metadata": {
  "kernelspec": {
   "display_name": "Python 3 (ipykernel)",
   "language": "python",
   "name": "python3"
  },
  "language_info": {
   "codemirror_mode": {
    "name": "ipython",
    "version": 3
   },
   "file_extension": ".py",
   "mimetype": "text/x-python",
   "name": "python",
   "nbconvert_exporter": "python",
   "pygments_lexer": "ipython3",
   "version": "3.9.12"
  }
 },
 "nbformat": 4,
 "nbformat_minor": 5
}
