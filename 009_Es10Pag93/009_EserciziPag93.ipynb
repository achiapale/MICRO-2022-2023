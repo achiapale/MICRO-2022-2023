{
 "cells": [
  {
   "cell_type": "markdown",
   "id": "49765234",
   "metadata": {},
   "source": [
    "# ESERICIZI DI PAGINA 93"
   ]
  },
  {
   "cell_type": "code",
   "execution_count": 4,
   "id": "5fe3609f",
   "metadata": {},
   "outputs": [],
   "source": [
    "import numpy as np"
   ]
  },
  {
   "cell_type": "markdown",
   "id": "925cff82",
   "metadata": {},
   "source": [
    "## ESERCIZIO 1"
   ]
  },
  {
   "cell_type": "code",
   "execution_count": null,
   "id": "a4170b46",
   "metadata": {},
   "outputs": [],
   "source": [
    "# stampa un array di 10 elementi con numeri casuali tra 1 e 10\n",
    "array = np.random.uniform(0, 11, 10)\n",
    "# inverto l'array\n",
    "arrayInvertito = array[::-1]"
   ]
  },
  {
   "cell_type": "markdown",
   "id": "b93da70b",
   "metadata": {},
   "source": [
    "## ESERICIZIO 4"
   ]
  },
  {
   "cell_type": "code",
   "execution_count": null,
   "id": "39e1df41",
   "metadata": {},
   "outputs": [],
   "source": [
    "#fibonacci --> 1,1,2,3,5,8,13,\n",
    "n = 1\n",
    "n1 = 1\n",
    "\n",
    "array = np.ones(10, dtype = np.int8)\n",
    "\n",
    "#ciclo per stampare i 10 valori (conoscendo i primi due)\n",
    "for i in range(2, 10):\n",
    "    array[i] = n+n1\n",
    "    n = n1\n",
    "    n1 = array[i]"
   ]
  },
  {
   "cell_type": "markdown",
   "id": "e056a42b",
   "metadata": {},
   "source": [
    "## ESERCIZIO 5"
   ]
  },
  {
   "cell_type": "code",
   "execution_count": 10,
   "id": "1462b47d",
   "metadata": {},
   "outputs": [],
   "source": [
    "#creo un array con numeri interi consecutivi fino a 14\n",
    "z = np.arange(1, 15)"
   ]
  },
  {
   "cell_type": "code",
   "execution_count": 13,
   "id": "c9c13a67",
   "metadata": {},
   "outputs": [
    {
     "data": {
      "text/plain": [
       "array([[ 1,  2,  3,  4],\n",
       "       [ 2,  3,  4,  5],\n",
       "       [ 3,  4,  5,  6],\n",
       "       [ 4,  5,  6,  7],\n",
       "       [ 5,  6,  7,  8],\n",
       "       [ 6,  7,  8,  9],\n",
       "       [ 7,  8,  9, 10],\n",
       "       [ 8,  9, 10, 11],\n",
       "       [ 9, 10, 11, 12],\n",
       "       [10, 11, 12, 13],\n",
       "       [11, 12, 13, 14]])"
      ]
     },
     "execution_count": 13,
     "metadata": {},
     "output_type": "execute_result"
    }
   ],
   "source": [
    "#utilizzo lo slicing\n",
    "np.array([z[i:i+4] for i in range(0, 11)])"
   ]
  },
  {
   "cell_type": "markdown",
   "id": "813a9b6e",
   "metadata": {},
   "source": [
    "## ESERCIZIO 10"
   ]
  },
  {
   "cell_type": "code",
   "execution_count": 5,
   "id": "b8c34f79",
   "metadata": {},
   "outputs": [],
   "source": [
    "#creo una curva gaussiana\n",
    "array = np.random.normal(19, 5, 1000)"
   ]
  },
  {
   "cell_type": "code",
   "execution_count": 6,
   "id": "689491ba",
   "metadata": {},
   "outputs": [],
   "source": [
    "#creo un array indici con 20 valori casuali\n",
    "indici = np.random.randint(0, 1001, 20)"
   ]
  },
  {
   "cell_type": "code",
   "execution_count": 7,
   "id": "94c50d7f",
   "metadata": {},
   "outputs": [
    {
     "ename": "IndexError",
     "evalue": "index 1000 is out of bounds for axis 0 with size 1000",
     "output_type": "error",
     "traceback": [
      "\u001b[1;31m---------------------------------------------------------------------------\u001b[0m",
      "\u001b[1;31mIndexError\u001b[0m                                Traceback (most recent call last)",
      "Input \u001b[1;32mIn [7]\u001b[0m, in \u001b[0;36m<cell line: 2>\u001b[1;34m()\u001b[0m\n\u001b[0;32m      1\u001b[0m \u001b[38;5;66;03m#assgno a questi valori casuali il valore di errore\u001b[39;00m\n\u001b[1;32m----> 2\u001b[0m array[indici] \u001b[38;5;241m=\u001b[39m \u001b[38;5;241m999.9\u001b[39m\n",
      "\u001b[1;31mIndexError\u001b[0m: index 1000 is out of bounds for axis 0 with size 1000"
     ]
    }
   ],
   "source": [
    "#assgno a questi valori casuali il valore di errore\n",
    "array[indici] = 999.9"
   ]
  },
  {
   "cell_type": "markdown",
   "id": "06ff9f24",
   "metadata": {},
   "source": [
    "### Miglioria del codice:"
   ]
  },
  {
   "cell_type": "code",
   "execution_count": 8,
   "id": "1432b345",
   "metadata": {},
   "outputs": [],
   "source": [
    "#evita i doppioni quando si scelgono i numeri casuali\n",
    "indici = np.random.choice(np.arange(0, 1000), size = 20, replace = False)\n",
    "array[indici] = 999.9"
   ]
  },
  {
   "cell_type": "code",
   "execution_count": null,
   "id": "cd772301",
   "metadata": {},
   "outputs": [],
   "source": []
  }
 ],
 "metadata": {
  "kernelspec": {
   "display_name": "Python 3 (ipykernel)",
   "language": "python",
   "name": "python3"
  },
  "language_info": {
   "codemirror_mode": {
    "name": "ipython",
    "version": 3
   },
   "file_extension": ".py",
   "mimetype": "text/x-python",
   "name": "python",
   "nbconvert_exporter": "python",
   "pygments_lexer": "ipython3",
   "version": "3.9.12"
  }
 },
 "nbformat": 4,
 "nbformat_minor": 5
}
