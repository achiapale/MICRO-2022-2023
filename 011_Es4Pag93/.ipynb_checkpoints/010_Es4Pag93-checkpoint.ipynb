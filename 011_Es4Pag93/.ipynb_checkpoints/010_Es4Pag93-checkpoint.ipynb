{
 "cells": [
  {
   "cell_type": "markdown",
   "id": "52a1d921",
   "metadata": {},
   "source": [
    "# ESERCIZIO 4 PAGINA 93"
   ]
  },
  {
   "cell_type": "code",
   "execution_count": 3,
   "id": "00660872",
   "metadata": {},
   "outputs": [],
   "source": [
    "import numpy as np"
   ]
  },
  {
   "cell_type": "code",
   "execution_count": 9,
   "id": "e5d9293e",
   "metadata": {},
   "outputs": [
    {
     "data": {
      "text/plain": [
       "array([ 1,  1,  2,  3,  5,  8, 13, 21, 34, 55], dtype=int8)"
      ]
     },
     "execution_count": 9,
     "metadata": {},
     "output_type": "execute_result"
    }
   ],
   "source": [
    "#fibonacci --> 1,1,2,3,5,8,13,\n",
    "n = 1\n",
    "n1 = 1\n",
    "\n",
    "array = np.ones(10, dtype = np.int8)\n",
    "\n",
    "for i in range(2, 10):\n",
    "    array[i] = n+n1\n",
    "    n = n1\n",
    "    n1 = array[i]\n",
    "    \n",
    "array"
   ]
  },
  {
   "cell_type": "code",
   "execution_count": null,
   "id": "877e9855",
   "metadata": {},
   "outputs": [],
   "source": []
  }
 ],
 "metadata": {
  "kernelspec": {
   "display_name": "Python 3 (ipykernel)",
   "language": "python",
   "name": "python3"
  },
  "language_info": {
   "codemirror_mode": {
    "name": "ipython",
    "version": 3
   },
   "file_extension": ".py",
   "mimetype": "text/x-python",
   "name": "python",
   "nbconvert_exporter": "python",
   "pygments_lexer": "ipython3",
   "version": "3.9.12"
  }
 },
 "nbformat": 4,
 "nbformat_minor": 5
}
