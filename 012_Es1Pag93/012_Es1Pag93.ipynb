{
 "cells": [
  {
   "cell_type": "markdown",
   "id": "dacfc2b4",
   "metadata": {},
   "source": [
    "# ESERCIZIO 1 PAGINA 93"
   ]
  },
  {
   "cell_type": "code",
   "execution_count": 1,
   "id": "67684e3a",
   "metadata": {},
   "outputs": [],
   "source": [
    "import numpy as np"
   ]
  },
  {
   "cell_type": "code",
   "execution_count": 14,
   "id": "473a729e",
   "metadata": {},
   "outputs": [
    {
     "data": {
      "text/plain": [
       "array([ 6.21919796,  9.29002877,  1.76445829,  1.4965191 ,  1.24190935,\n",
       "        0.87748642,  1.98744821,  9.93013198,  3.09909374, 10.79130404])"
      ]
     },
     "execution_count": 14,
     "metadata": {},
     "output_type": "execute_result"
    }
   ],
   "source": [
    "# stampa un array di 10 elementi con numeri casuali tra 1 e 10\n",
    "array = np.random.uniform(0, 11, 10)\n",
    "array"
   ]
  },
  {
   "cell_type": "code",
   "execution_count": 16,
   "id": "bbc8ed8f",
   "metadata": {},
   "outputs": [
    {
     "data": {
      "text/plain": [
       "array([10.79130404,  3.09909374,  9.93013198,  1.98744821,  0.87748642,\n",
       "        1.24190935,  1.4965191 ,  1.76445829,  9.29002877,  6.21919796])"
      ]
     },
     "execution_count": 16,
     "metadata": {},
     "output_type": "execute_result"
    }
   ],
   "source": [
    "arrayInvertito = array[::-1]\n",
    "arrayInvertito"
   ]
  }
 ],
 "metadata": {
  "kernelspec": {
   "display_name": "Python 3 (ipykernel)",
   "language": "python",
   "name": "python3"
  },
  "language_info": {
   "codemirror_mode": {
    "name": "ipython",
    "version": 3
   },
   "file_extension": ".py",
   "mimetype": "text/x-python",
   "name": "python",
   "nbconvert_exporter": "python",
   "pygments_lexer": "ipython3",
   "version": "3.9.12"
  }
 },
 "nbformat": 4,
 "nbformat_minor": 5
}
