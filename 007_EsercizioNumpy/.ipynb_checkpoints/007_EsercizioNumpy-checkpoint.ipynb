{
 "cells": [
  {
   "cell_type": "markdown",
   "id": "a53789de",
   "metadata": {},
   "source": [
    "# ESERCIZIO CON LE FUNZIONI NUMPY"
   ]
  },
  {
   "cell_type": "markdown",
   "id": "eea9e570",
   "metadata": {},
   "source": [
    "## creare un array 1dim del tipo [0, 1, 0, 1, 0...]"
   ]
  },
  {
   "cell_type": "code",
   "execution_count": 16,
   "id": "22dfcaf0",
   "metadata": {},
   "outputs": [],
   "source": [
    "import numpy as np"
   ]
  },
  {
   "cell_type": "code",
   "execution_count": 17,
   "id": "e49125e6",
   "metadata": {},
   "outputs": [
    {
     "name": "stdout",
     "output_type": "stream",
     "text": [
      "823 ns ± 73.4 ns per loop (mean ± std. dev. of 7 runs, 1,000,000 loops each)\n"
     ]
    }
   ],
   "source": [
    "%%timeit\n",
    "#se messo all'inizio della cella, indica quando tempo ci ha messo\n",
    "#numpy è circa 1000 volte più veloce di python\n",
    "n = 10\n",
    "array_1d = np.zeros(n, dtype = np.int8)\n",
    "array_1d"
   ]
  },
  {
   "cell_type": "code",
   "execution_count": 18,
   "id": "3a6d68fd",
   "metadata": {},
   "outputs": [
    {
     "ename": "NameError",
     "evalue": "name 'array_1d' is not defined",
     "output_type": "error",
     "traceback": [
      "\u001b[1;31m---------------------------------------------------------------------------\u001b[0m",
      "\u001b[1;31mNameError\u001b[0m                                 Traceback (most recent call last)",
      "Input \u001b[1;32mIn [18]\u001b[0m, in \u001b[0;36m<cell line: 1>\u001b[1;34m()\u001b[0m\n\u001b[1;32m----> 1\u001b[0m \u001b[43marray_1d\u001b[49m[::\u001b[38;5;241m2\u001b[39m] \u001b[38;5;241m=\u001b[39m \u001b[38;5;241m1\u001b[39m\n\u001b[0;32m      2\u001b[0m array_1d\n",
      "\u001b[1;31mNameError\u001b[0m: name 'array_1d' is not defined"
     ]
    }
   ],
   "source": [
    "array_1d[::2] = 1\n",
    "array_1d"
   ]
  },
  {
   "cell_type": "markdown",
   "id": "b5d557d4",
   "metadata": {},
   "source": [
    "## utilizzando python"
   ]
  },
  {
   "cell_type": "code",
   "execution_count": 5,
   "id": "e57a8901",
   "metadata": {},
   "outputs": [
    {
     "name": "stdout",
     "output_type": "stream",
     "text": [
      "[0, 1, 0, 1, 0, 1, 0, 1, 0, 1]\n"
     ]
    }
   ],
   "source": [
    "n = 10\n",
    "l = [i%2 for i in range (0, n)]\n",
    "print(l)"
   ]
  },
  {
   "cell_type": "code",
   "execution_count": 21,
   "id": "ce3440dc",
   "metadata": {},
   "outputs": [
    {
     "name": "stdout",
     "output_type": "stream",
     "text": [
      "2.56 µs ± 268 ns per loop (mean ± std. dev. of 7 runs, 100,000 loops each)\n"
     ]
    }
   ],
   "source": [
    "%%timeit\n",
    "# se voglio trasformarlo in un array\n",
    "l = np.array([i%2 for i in range (0, n)])"
   ]
  }
 ],
 "metadata": {
  "kernelspec": {
   "display_name": "Python 3 (ipykernel)",
   "language": "python",
   "name": "python3"
  },
  "language_info": {
   "codemirror_mode": {
    "name": "ipython",
    "version": 3
   },
   "file_extension": ".py",
   "mimetype": "text/x-python",
   "name": "python",
   "nbconvert_exporter": "python",
   "pygments_lexer": "ipython3",
   "version": "3.9.12"
  }
 },
 "nbformat": 4,
 "nbformat_minor": 5
}
