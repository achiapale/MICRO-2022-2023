{
 "cells": [
  {
   "cell_type": "markdown",
   "id": "2c1cf071",
   "metadata": {},
   "source": [
    "# ESERCIZIO 9 PAGINA 107"
   ]
  },
  {
   "cell_type": "code",
   "execution_count": 6,
   "id": "f0d2b92b",
   "metadata": {},
   "outputs": [],
   "source": [
    "import numpy as np"
   ]
  },
  {
   "cell_type": "code",
   "execution_count": 20,
   "id": "e443546e",
   "metadata": {},
   "outputs": [],
   "source": [
    "nLanci = 1000\n",
    "contaPuntiA = 0\n",
    "contaPuntiB = 0"
   ]
  },
  {
   "cell_type": "code",
   "execution_count": 21,
   "id": "aecf04d4",
   "metadata": {},
   "outputs": [],
   "source": [
    "giocatoreA = np.random.randint(1,7, nLanci)\n",
    "giocatoreB = np.random.randint(1,7, nLanci)"
   ]
  },
  {
   "cell_type": "code",
   "execution_count": 22,
   "id": "3104e835",
   "metadata": {},
   "outputs": [
    {
     "name": "stdout",
     "output_type": "stream",
     "text": [
      "[5 2 5 3 3 3 5 3 4 2 1 3 1 3 2 1 2 5 3 5 2 4 4 4 2 5 1 4 5 3 4 6 6 1 4 4 3\n",
      " 2 1 1 4 5 5 1 4 1 1 6 1 1 4 4 4 6 2 1 2 2 6 1 2 4 2 6 2 1 5 3 2 5 5 5 1 1\n",
      " 6 4 1 2 5 5 4 2 6 4 1 5 3 4 4 4 5 5 6 6 2 6 6 2 4 4 4 3 2 3 2 4 5 4 3 5 3\n",
      " 1 3 6 3 2 5 2 6 1 5 4 5 4 2 4 4 2 6 3 6 2 4 6 2 1 6 1 1 1 6 6 5 3 2 3 1 6\n",
      " 1 3 5 1 1 2 6 6 1 3 4 1 6 3 1 2 4 1 5 6 3 1 6 2 2 4 3 4 1 5 4 5 2 3 3 5 4\n",
      " 1 6 6 2 5 5 1 3 1 2 2 3 6 5 2 3 6 3 2 5 2 6 5 4 5 6 4 6 2 2 2 2 3 6 5 6 3\n",
      " 4 2 4 3 6 6 3 5 6 2 1 6 6 3 4 5 6 6 6 5 2 1 1 2 2 1 2 5 1 3 1 2 4 6 3 1 5\n",
      " 5 4 3 5 4 2 5 5 6 5 5 5 4 4 5 4 1 4 6 3 6 4 5 1 2 3 5 2 6 4 4 6 6 4 6 1 1\n",
      " 5 3 5 2 6 5 2 1 1 6 2 4 3 6 6 5 2 5 4 2 5 1 6 5 5 4 2 2 5 1 5 4 6 3 5 4 6\n",
      " 4 3 6 3 6 3 1 3 6 2 5 1 6 5 3 5 6 3 6 4 1 1 3 3 3 3 3 4 4 5 2 4 2 4 1 3 5\n",
      " 4 2 1 3 1 2 5 1 2 3 4 3 4 4 5 1 3 4 6 5 2 4 6 3 5 3 1 5 3 6 6 5 5 1 6 2 6\n",
      " 4 2 1 1 5 2 4 2 5 6 2 5 4 2 5 2 4 6 3 4 1 5 2 4 5 3 6 1 2 4 6 3 4 6 4 4 2\n",
      " 2 1 2 1 2 4 3 3 6 3 4 4 1 5 1 1 2 1 1 4 1 6 4 3 3 5 2 5 3 1 1 1 4 3 2 5 6\n",
      " 2 4 3 3 5 6 3 1 1 1 2 5 2 3 6 5 1 3 4 3 5 3 3 6 2 3 6 2 6 2 1 2 3 6 2 1 5\n",
      " 5 4 6 3 2 2 2 5 5 1 4 1 5 4 2 3 2 5 2 3 1 3 4 3 5 6 2 6 5 3 1 1 1 1 1 3 2\n",
      " 6 4 4 3 2 6 4 5 4 2 1 3 3 2 6 6 5 1 2 1 2 2 4 5 4 3 2 2 3 2 5 5 3 3 3 5 2\n",
      " 3 3 5 2 3 6 6 2 3 5 6 5 3 6 2 4 3 4 1 4 1 6 1 5 2 1 3 4 1 3 6 2 1 3 1 1 6\n",
      " 4 4 2 1 4 3 6 2 5 6 4 4 1 3 3 2 6 2 2 4 3 2 5 2 1 5 3 1 2 6 6 1 3 3 4 2 4\n",
      " 2 2 5 6 6 3 5 2 2 4 3 2 5 6 3 6 4 1 1 1 1 6 5 1 1 2 3 2 3 5 5 3 6 3 2 4 4\n",
      " 4 5 5 4 6 3 3 4 6 6 1 6 5 6 4 1 2 6 5 2 6 2 5 5 3 4 5 5 5 5 6 4 3 4 5 6 4\n",
      " 6 1 5 4 3 5 2 6 1 1 3 4 4 1 2 2 1 3 6 3 4 1 2 4 1 4 4 4 3 5 6 6 5 1 5 4 3\n",
      " 1 1 2 2 6 6 4 1 6 4 1 3 2 1 1 2 2 1 1 1 6 5 2 4 3 4 6 4 3 6 4 5 6 3 1 6 4\n",
      " 5 4 2 2 5 4 4 6 6 2 4 1 6 1 1 5 4 1 4 4 4 6 1 1 2 4 5 2 3 2 1 6 3 4 4 5 1\n",
      " 4 3 3 6 3 6 1 4 5 4 5 5 1 3 6 5 5 5 3 6 1 5 4 4 1 2 6 5 5 1 4 1 4 2 3 5 1\n",
      " 2 4 2 3 3 1 6 4 5 1 1 4 5 4 6 4 2 5 6 6 5 6 3 1 3 6 5 4 4 5 1 3 1 1 1 6 6\n",
      " 1 4 5 6 1 2 2 6 2 3 6 6 3 6 1 5 1 6 2 5 5 2 5 3 6 2 3 3 1 2 1 3 2 3 6 3 4\n",
      " 6 4 1 6 4 1 1 3 1 1 3 2 5 5 5 2 3 4 4 4 1 3 2 3 4 3 3 2 4 3 4 6 1 3 3 6 5\n",
      " 6] [6 1 1 5 4 3 3 5 1 5 3 3 4 4 3 6 3 6 6 2 1 4 5 4 1 3 3 1 6 4 5 6 6 1 1 3 1\n",
      " 5 5 6 3 6 3 1 6 1 5 6 5 2 6 5 5 5 5 5 3 2 3 5 1 5 4 3 1 5 2 5 2 3 2 3 4 6\n",
      " 2 6 3 6 1 6 1 5 1 4 6 4 3 2 3 3 3 3 6 1 1 6 2 1 3 6 4 2 1 4 4 4 6 5 2 2 2\n",
      " 3 3 1 2 6 5 2 4 2 4 5 2 6 2 2 4 6 6 6 1 1 1 2 3 2 2 2 6 6 4 6 2 6 1 1 4 6\n",
      " 2 3 5 6 5 5 1 5 2 2 4 5 4 1 1 2 4 4 6 1 5 6 1 4 5 5 1 1 4 4 6 6 6 1 3 2 4\n",
      " 1 4 2 2 5 4 2 2 1 2 3 6 5 2 5 4 1 5 1 3 5 1 3 1 3 4 6 4 2 4 6 1 1 3 4 4 5\n",
      " 1 6 3 1 5 6 5 3 6 3 4 4 4 2 5 4 4 4 1 3 4 4 4 6 6 6 2 2 1 1 1 2 1 5 4 1 1\n",
      " 3 3 5 6 6 4 6 2 3 3 6 6 5 2 6 3 5 4 5 1 2 5 1 5 3 2 5 6 3 5 5 4 1 5 2 2 6\n",
      " 2 2 2 3 3 3 2 3 3 3 5 4 2 5 4 2 2 3 1 4 3 1 3 6 4 4 6 2 2 6 3 4 1 4 6 1 2\n",
      " 2 1 5 5 2 3 6 5 3 2 6 4 6 2 5 3 3 3 3 2 1 4 2 3 3 6 2 3 6 4 6 5 5 5 5 1 1\n",
      " 3 6 6 5 4 5 5 1 3 1 2 2 3 3 1 5 2 5 6 6 1 4 4 1 4 1 4 5 5 5 2 3 6 6 4 5 4\n",
      " 5 3 4 1 3 5 6 3 2 3 5 5 5 4 3 4 1 5 6 6 3 5 5 5 2 4 1 6 3 4 3 5 5 3 2 2 4\n",
      " 1 3 3 1 6 6 4 4 3 6 4 3 6 1 3 1 6 4 1 2 5 3 2 4 4 3 2 3 4 2 3 2 2 4 1 5 5\n",
      " 6 2 1 3 4 6 1 6 3 6 4 5 4 2 4 1 1 6 6 4 5 1 6 1 1 4 4 2 5 3 1 5 6 2 2 2 4\n",
      " 3 6 2 5 5 5 3 4 6 3 5 1 6 3 3 6 1 4 3 2 2 4 2 4 3 3 3 6 1 3 2 2 4 4 2 1 3\n",
      " 1 1 6 3 1 3 5 5 4 5 6 6 3 5 1 4 2 2 5 6 3 2 5 5 4 4 6 6 6 4 6 5 5 2 5 5 3\n",
      " 6 4 1 1 4 6 3 4 3 1 4 5 4 2 1 6 6 6 5 3 6 2 3 5 1 3 2 5 6 1 2 5 4 3 1 4 6\n",
      " 3 4 4 6 4 2 5 1 2 4 5 3 3 3 6 6 3 3 5 5 6 5 4 3 3 6 2 2 2 5 5 4 5 3 6 2 1\n",
      " 5 4 4 5 6 3 5 3 6 4 2 4 1 1 4 2 3 5 1 5 4 2 6 3 1 2 1 6 5 5 4 1 6 6 3 1 3\n",
      " 4 5 3 1 2 1 3 6 2 1 2 4 5 4 6 1 5 1 2 5 5 6 4 4 6 2 4 5 1 2 3 6 2 4 2 4 3\n",
      " 6 5 2 5 3 2 2 4 3 1 1 5 6 5 3 2 6 5 3 3 1 5 2 3 5 6 6 5 3 3 5 1 2 6 2 3 5\n",
      " 6 4 4 2 6 1 5 3 1 4 3 4 5 3 2 4 4 4 2 6 5 2 3 5 4 2 4 1 1 3 5 5 2 6 4 6 1\n",
      " 5 2 3 5 4 5 1 3 3 3 5 5 3 1 3 5 6 4 4 1 1 1 1 6 2 3 6 2 1 2 1 6 6 2 3 6 2\n",
      " 4 6 5 4 5 1 5 6 1 6 6 4 4 3 1 1 4 5 5 4 6 1 1 4 1 2 2 3 2 3 6 5 3 5 5 1 5\n",
      " 6 2 2 6 6 3 1 5 2 2 3 6 2 3 1 1 2 2 5 6 4 6 2 4 3 3 2 2 2 4 3 4 5 2 5 6 2\n",
      " 5 2 1 5 2 5 5 3 4 6 5 4 1 2 6 3 6 2 5 2 1 3 2 6 5 6 5 3 6 6 4 6 2 6 3 2 4\n",
      " 3 2 4 1 2 1 1 5 2 5 2 5 1 4 4 3 2 4 2 1 3 5 4 2 5 6 1 3 4 2 5 1 5 3 6 4 3\n",
      " 6]\n"
     ]
    }
   ],
   "source": [
    "print(giocatoreA, giocatoreB)"
   ]
  },
  {
   "cell_type": "code",
   "execution_count": 23,
   "id": "c92caf2a",
   "metadata": {},
   "outputs": [
    {
     "data": {
      "text/plain": [
       "array([False,  True,  True, False, False, False,  True, False,  True,\n",
       "       False, False, False, False, False, False, False, False, False,\n",
       "       False,  True,  True, False, False, False,  True,  True, False,\n",
       "        True, False, False, False, False, False, False,  True,  True,\n",
       "        True, False, False, False,  True, False,  True, False, False,\n",
       "       False, False, False, False, False, False, False, False,  True,\n",
       "       False, False, False, False,  True, False,  True, False, False,\n",
       "        True,  True, False,  True, False, False,  True,  True,  True,\n",
       "       False, False,  True, False, False, False,  True, False,  True,\n",
       "       False,  True, False, False,  True, False,  True,  True,  True,\n",
       "        True,  True, False,  True,  True, False,  True,  True,  True,\n",
       "       False, False,  True,  True, False, False, False, False, False,\n",
       "        True,  True,  True, False, False,  True,  True, False, False,\n",
       "       False,  True, False,  True, False,  True, False, False,  True,\n",
       "       False, False, False, False,  True,  True,  True,  True, False,\n",
       "       False,  True, False, False, False,  True, False,  True, False,\n",
       "        True,  True, False, False, False, False, False, False, False,\n",
       "       False,  True,  True, False,  True, False, False,  True,  True,\n",
       "       False, False, False, False, False,  True, False, False,  True,\n",
       "       False, False, False,  True,  True, False,  True, False, False,\n",
       "       False,  True, False,  True, False, False,  True,  True, False,\n",
       "       False,  True, False,  True, False, False, False, False,  True,\n",
       "        True, False, False,  True, False,  True,  True, False,  True,\n",
       "        True,  True,  True,  True, False,  True, False, False, False,\n",
       "        True,  True,  True,  True,  True, False,  True, False,  True,\n",
       "        True,  True, False, False,  True, False, False, False,  True,\n",
       "        True,  True, False,  True,  True,  True,  True,  True, False,\n",
       "       False, False, False, False, False, False,  True, False,  True,\n",
       "       False, False,  True,  True, False, False,  True,  True,  True,\n",
       "       False, False, False, False, False,  True,  True,  True, False,\n",
       "       False, False,  True, False,  True, False, False,  True,  True,\n",
       "        True, False,  True, False, False,  True, False, False,  True,\n",
       "       False, False,  True,  True, False,  True, False, False,  True,\n",
       "        True,  True, False,  True,  True, False, False, False,  True,\n",
       "       False, False,  True,  True,  True,  True, False,  True,  True,\n",
       "       False,  True, False,  True, False,  True, False, False, False,\n",
       "        True, False,  True, False,  True, False, False,  True,  True,\n",
       "        True,  True,  True, False,  True, False, False, False,  True,\n",
       "       False, False, False, False,  True, False,  True,  True, False,\n",
       "        True,  True, False, False,  True, False, False, False,  True,\n",
       "        True, False,  True, False, False, False, False, False,  True,\n",
       "        True,  True, False, False, False, False, False, False, False,\n",
       "       False,  True,  True,  True,  True,  True,  True, False,  True,\n",
       "       False, False, False,  True, False,  True,  True,  True,  True,\n",
       "       False, False, False,  True,  True,  True, False, False,  True,\n",
       "       False,  True, False, False, False, False,  True, False, False,\n",
       "       False,  True,  True, False, False, False, False,  True, False,\n",
       "        True,  True, False, False, False, False, False, False,  True,\n",
       "       False,  True, False, False, False,  True, False, False,  True,\n",
       "        True,  True, False,  True, False, False, False, False, False,\n",
       "       False, False,  True, False, False,  True, False,  True, False,\n",
       "       False, False, False, False,  True, False,  True,  True, False,\n",
       "       False,  True, False,  True, False, False, False, False,  True,\n",
       "       False,  True, False,  True, False,  True,  True, False,  True,\n",
       "       False,  True, False, False, False, False, False, False,  True,\n",
       "        True,  True, False, False, False, False, False,  True, False,\n",
       "        True,  True, False,  True, False,  True, False, False, False,\n",
       "       False,  True, False, False,  True,  True, False,  True, False,\n",
       "       False, False, False,  True, False, False, False, False, False,\n",
       "        True, False, False,  True,  True, False,  True, False, False,\n",
       "        True, False,  True,  True, False, False,  True, False, False,\n",
       "       False, False, False, False,  True, False,  True,  True, False,\n",
       "       False,  True,  True, False, False, False, False, False, False,\n",
       "       False, False,  True,  True,  True, False, False, False, False,\n",
       "       False, False, False, False, False, False, False, False, False,\n",
       "       False, False, False,  True, False, False, False, False, False,\n",
       "        True,  True, False, False,  True, False, False,  True,  True,\n",
       "       False, False,  True,  True, False, False, False, False,  True,\n",
       "       False,  True, False, False,  True, False,  True, False, False,\n",
       "        True,  True, False, False, False, False, False, False,  True,\n",
       "       False, False, False, False,  True,  True,  True,  True,  True,\n",
       "       False,  True, False, False, False, False,  True, False, False,\n",
       "       False, False, False,  True, False, False, False,  True, False,\n",
       "       False,  True,  True, False, False, False, False, False,  True,\n",
       "       False, False,  True,  True, False, False, False, False, False,\n",
       "       False,  True, False,  True,  True, False,  True,  True, False,\n",
       "       False, False, False,  True, False, False, False, False,  True,\n",
       "       False, False, False,  True,  True, False, False, False,  True,\n",
       "        True, False, False,  True,  True,  True,  True, False, False,\n",
       "        True,  True, False,  True, False,  True, False, False, False,\n",
       "        True,  True, False,  True, False,  True,  True, False,  True,\n",
       "        True, False,  True,  True,  True, False,  True, False,  True,\n",
       "        True,  True, False, False,  True, False, False,  True, False,\n",
       "        True, False, False,  True, False, False, False, False, False,\n",
       "       False, False,  True, False,  True, False, False,  True, False,\n",
       "       False, False, False, False,  True,  True,  True,  True, False,\n",
       "        True,  True, False, False, False, False, False, False,  True,\n",
       "       False, False,  True, False, False, False, False, False, False,\n",
       "       False, False, False, False, False,  True,  True, False, False,\n",
       "       False,  True,  True,  True,  True,  True, False, False,  True,\n",
       "       False, False, False,  True, False,  True, False, False,  True,\n",
       "       False,  True,  True,  True, False, False, False,  True, False,\n",
       "       False, False, False, False, False,  True,  True,  True, False,\n",
       "       False, False,  True, False, False,  True, False, False, False,\n",
       "       False,  True,  True, False, False, False, False, False,  True,\n",
       "       False,  True, False, False,  True, False, False,  True, False,\n",
       "       False,  True,  True,  True, False, False,  True, False,  True,\n",
       "        True, False, False, False,  True,  True,  True, False, False,\n",
       "       False,  True, False, False,  True, False, False,  True, False,\n",
       "       False, False, False,  True, False,  True, False, False, False,\n",
       "        True,  True,  True,  True, False,  True,  True, False,  True,\n",
       "       False,  True, False, False,  True,  True,  True,  True,  True,\n",
       "       False, False, False, False, False, False,  True, False,  True,\n",
       "        True,  True, False, False, False,  True, False, False,  True,\n",
       "        True,  True,  True, False,  True, False,  True, False,  True,\n",
       "        True, False,  True, False,  True, False, False, False, False,\n",
       "       False, False, False, False, False,  True,  True, False,  True,\n",
       "        True, False,  True,  True, False, False, False, False, False,\n",
       "        True, False,  True,  True,  True, False,  True, False,  True,\n",
       "        True, False, False, False,  True, False, False,  True, False,\n",
       "       False,  True, False,  True, False, False, False,  True,  True,\n",
       "       False])"
      ]
     },
     "execution_count": 23,
     "metadata": {},
     "output_type": "execute_result"
    }
   ],
   "source": [
    "giocatoreA > giocatoreB"
   ]
  },
  {
   "cell_type": "code",
   "execution_count": 24,
   "id": "54ff4bab",
   "metadata": {},
   "outputs": [
    {
     "name": "stdout",
     "output_type": "stream",
     "text": [
      "Punti del giocatore a: 484.5, punti del giocatore b: 515.5\n"
     ]
    }
   ],
   "source": [
    "for i in range (0, nLanci):\n",
    "    if(giocatoreA[i] > giocatoreB[i]) == True:\n",
    "        contaPuntiA += 1\n",
    "    else:\n",
    "        if(giocatoreA[i] == giocatoreB[i]) == True:\n",
    "            contaPuntiA += 0.5\n",
    "            contaPuntiB += 0.5\n",
    "        else:\n",
    "            contaPuntiB += 1\n",
    "            \n",
    "print(f\"Punti del giocatore a: {contaPuntiA}, punti del giocatore b: {contaPuntiB}\")"
   ]
  },
  {
   "cell_type": "code",
   "execution_count": 37,
   "id": "1944789e",
   "metadata": {},
   "outputs": [
    {
     "data": {
      "text/plain": [
       "array([4.84268831, 4.38886882, 3.50173112, 5.16107052, 4.93449678,\n",
       "       5.2416261 , 4.89832375, 5.78167175, 5.32830398, 6.3329564 ])"
      ]
     },
     "execution_count": 37,
     "metadata": {},
     "output_type": "execute_result"
    }
   ],
   "source": [
    "# dado truccato\n",
    "giocatoreA = np.random.normal(5, 1, 10)\n",
    "giocatoreA"
   ]
  },
  {
   "cell_type": "code",
   "execution_count": null,
   "id": "fd290e45",
   "metadata": {},
   "outputs": [],
   "source": []
  }
 ],
 "metadata": {
  "kernelspec": {
   "display_name": "Python 3 (ipykernel)",
   "language": "python",
   "name": "python3"
  },
  "language_info": {
   "codemirror_mode": {
    "name": "ipython",
    "version": 3
   },
   "file_extension": ".py",
   "mimetype": "text/x-python",
   "name": "python",
   "nbconvert_exporter": "python",
   "pygments_lexer": "ipython3",
   "version": "3.9.12"
  }
 },
 "nbformat": 4,
 "nbformat_minor": 5
}
