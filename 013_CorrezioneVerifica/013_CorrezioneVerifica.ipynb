{
 "cells": [
  {
   "cell_type": "markdown",
   "id": "afa58093",
   "metadata": {},
   "source": [
    "# CORREZIONE VERIFICA"
   ]
  },
  {
   "cell_type": "markdown",
   "id": "c92ca01a",
   "metadata": {},
   "source": [
    "### ESERCIZIO 1"
   ]
  },
  {
   "cell_type": "code",
   "execution_count": 4,
   "id": "0f10509d",
   "metadata": {},
   "outputs": [
    {
     "ename": "FileNotFoundError",
     "evalue": "[Errno 2] No such file or directory: './robots.txt'",
     "output_type": "error",
     "traceback": [
      "\u001b[1;31m---------------------------------------------------------------------------\u001b[0m",
      "\u001b[1;31mFileNotFoundError\u001b[0m                         Traceback (most recent call last)",
      "Input \u001b[1;32mIn [4]\u001b[0m, in \u001b[0;36m<cell line: 2>\u001b[1;34m()\u001b[0m\n\u001b[0;32m      1\u001b[0m \u001b[38;5;66;03m# apro il file e leggo le righe\u001b[39;00m\n\u001b[1;32m----> 2\u001b[0m file \u001b[38;5;241m=\u001b[39m \u001b[38;5;28;43mopen\u001b[39;49m\u001b[43m(\u001b[49m\u001b[38;5;124;43m\"\u001b[39;49m\u001b[38;5;124;43m./robots.txt\u001b[39;49m\u001b[38;5;124;43m\"\u001b[39;49m\u001b[43m)\u001b[49m\n\u001b[0;32m      3\u001b[0m righe \u001b[38;5;241m=\u001b[39m file\u001b[38;5;241m.\u001b[39mreadlines()\n\u001b[0;32m      5\u001b[0m \u001b[38;5;66;03m# chiudo il file\u001b[39;00m\n",
      "\u001b[1;31mFileNotFoundError\u001b[0m: [Errno 2] No such file or directory: './robots.txt'"
     ]
    }
   ],
   "source": [
    "# apro il file e leggo le righe\n",
    "file = open(\"./robots.txt\")\n",
    "righe = file.readlines()\n",
    "\n",
    "# chiudo il file\n",
    "file.close()"
   ]
  },
  {
   "cell_type": "code",
   "execution_count": 5,
   "id": "8d22ccb7",
   "metadata": {},
   "outputs": [],
   "source": [
    "# creo un dizionario\n",
    "dizionario = {}"
   ]
  },
  {
   "cell_type": "code",
   "execution_count": 6,
   "id": "9b19b94d",
   "metadata": {},
   "outputs": [
    {
     "ename": "NameError",
     "evalue": "name 'righe' is not defined",
     "output_type": "error",
     "traceback": [
      "\u001b[1;31m---------------------------------------------------------------------------\u001b[0m",
      "\u001b[1;31mNameError\u001b[0m                                 Traceback (most recent call last)",
      "Input \u001b[1;32mIn [6]\u001b[0m, in \u001b[0;36m<cell line: 2>\u001b[1;34m()\u001b[0m\n\u001b[0;32m      1\u001b[0m \u001b[38;5;66;03m#ciclo su tutte le righe del file\u001b[39;00m\n\u001b[1;32m----> 2\u001b[0m \u001b[38;5;28;01mfor\u001b[39;00m riga \u001b[38;5;129;01min\u001b[39;00m \u001b[43mrighe\u001b[49m[\u001b[38;5;241m1\u001b[39m:]:\n\u001b[0;32m      3\u001b[0m     \u001b[38;5;66;03m# trovo tutti gli argomenti\u001b[39;00m\n\u001b[0;32m      4\u001b[0m     argomento \u001b[38;5;241m=\u001b[39m riga\u001b[38;5;241m.\u001b[39msplit(\u001b[38;5;124m\"\u001b[39m\u001b[38;5;124m/\u001b[39m\u001b[38;5;124m\"\u001b[39m)[\u001b[38;5;241m1\u001b[39m]\n\u001b[0;32m      6\u001b[0m     \u001b[38;5;66;03m#verifico se l'argomento si trova nel dizionario\u001b[39;00m\n",
      "\u001b[1;31mNameError\u001b[0m: name 'righe' is not defined"
     ]
    }
   ],
   "source": [
    "#ciclo su tutte le righe del file\n",
    "for riga in righe[1:]:\n",
    "    # trovo tutti gli argomenti\n",
    "    argomento = riga.split(\"/\")[1]\n",
    "    \n",
    "    #verifico se l'argomento si trova nel dizionario\n",
    "    if argomento in dizionario:\n",
    "        dizionario[argomento] = dizionario[argomento] + 1\n",
    "    else:\n",
    "        dizionario[argomento] = 1\n",
    "\n",
    "dizionario"
   ]
  },
  {
   "cell_type": "markdown",
   "id": "9adacefb",
   "metadata": {},
   "source": [
    "### ESERCIZIO 2"
   ]
  },
  {
   "cell_type": "code",
   "execution_count": 7,
   "id": "a6838a42",
   "metadata": {},
   "outputs": [],
   "source": [
    "import numpy as np"
   ]
  },
  {
   "cell_type": "code",
   "execution_count": 16,
   "id": "b1ffb04c",
   "metadata": {},
   "outputs": [
    {
     "name": "stdout",
     "output_type": "stream",
     "text": [
      "[   2    3    4    5    6    7    8    9   10   11   12   13   14   15\n",
      "   16   17   18   19   20   21   22   23   24   25   26   27   28   29\n",
      "   30   31   32   33   34   35   36   37   38   39   40   41   42   43\n",
      "   44   45   46   47   48   49   50   51   52   53   54   55   56   57\n",
      "   58   59   60   61   62   63   64   65   66   67   68   69   70   71\n",
      "   72   73   74   75   76   77   78   79   80   81   82   83   84   85\n",
      "   86   87   88   89   90   91   92   93   94   95   96   97   98   99\n",
      "  100  101  102  103  104  105  106  107  108  109  110  111  112  113\n",
      "  114  115  116  117  118  119  120  121  122  123  124  125  126  127\n",
      "  128  129  130  131  132  133  134  135  136  137  138  139  140  141\n",
      "  142  143  144  145  146  147  148  149  150  151  152  153  154  155\n",
      "  156  157  158  159  160  161  162  163  164  165  166  167  168  169\n",
      "  170  171  172  173  174  175  176  177  178  179  180  181  182  183\n",
      "  184  185  186  187  188  189  190  191  192  193  194  195  196  197\n",
      "  198  199  200  201  202  203  204  205  206  207  208  209  210  211\n",
      "  212  213  214  215  216  217  218  219  220  221  222  223  224  225\n",
      "  226  227  228  229  230  231  232  233  234  235  236  237  238  239\n",
      "  240  241  242  243  244  245  246  247  248  249  250  251  252  253\n",
      "  254  255  256  257  258  259  260  261  262  263  264  265  266  267\n",
      "  268  269  270  271  272  273  274  275  276  277  278  279  280  281\n",
      "  282  283  284  285  286  287  288  289  290  291  292  293  294  295\n",
      "  296  297  298  299  300  301  302  303  304  305  306  307  308  309\n",
      "  310  311  312  313  314  315  316  317  318  319  320  321  322  323\n",
      "  324  325  326  327  328  329  330  331  332  333  334  335  336  337\n",
      "  338  339  340  341  342  343  344  345  346  347  348  349  350  351\n",
      "  352  353  354  355  356  357  358  359  360  361  362  363  364  365\n",
      "  366  367  368  369  370  371  372  373  374  375  376  377  378  379\n",
      "  380  381  382  383  384  385  386  387  388  389  390  391  392  393\n",
      "  394  395  396  397  398  399  400  401  402  403  404  405  406  407\n",
      "  408  409  410  411  412  413  414  415  416  417  418  419  420  421\n",
      "  422  423  424  425  426  427  428  429  430  431  432  433  434  435\n",
      "  436  437  438  439  440  441  442  443  444  445  446  447  448  449\n",
      "  450  451  452  453  454  455  456  457  458  459  460  461  462  463\n",
      "  464  465  466  467  468  469  470  471  472  473  474  475  476  477\n",
      "  478  479  480  481  482  483  484  485  486  487  488  489  490  491\n",
      "  492  493  494  495  496  497  498  499  500  501  502  503  504  505\n",
      "  506  507  508  509  510  511  512  513  514  515  516  517  518  519\n",
      "  520  521  522  523  524  525  526  527  528  529  530  531  532  533\n",
      "  534  535  536  537  538  539  540  541  542  543  544  545  546  547\n",
      "  548  549  550  551  552  553  554  555  556  557  558  559  560  561\n",
      "  562  563  564  565  566  567  568  569  570  571  572  573  574  575\n",
      "  576  577  578  579  580  581  582  583  584  585  586  587  588  589\n",
      "  590  591  592  593  594  595  596  597  598  599  600  601  602  603\n",
      "  604  605  606  607  608  609  610  611  612  613  614  615  616  617\n",
      "  618  619  620  621  622  623  624  625  626  627  628  629  630  631\n",
      "  632  633  634  635  636  637  638  639  640  641  642  643  644  645\n",
      "  646  647  648  649  650  651  652  653  654  655  656  657  658  659\n",
      "  660  661  662  663  664  665  666  667  668  669  670  671  672  673\n",
      "  674  675  676  677  678  679  680  681  682  683  684  685  686  687\n",
      "  688  689  690  691  692  693  694  695  696  697  698  699  700  701\n",
      "  702  703  704  705  706  707  708  709  710  711  712  713  714  715\n",
      "  716  717  718  719  720  721  722  723  724  725  726  727  728  729\n",
      "  730  731  732  733  734  735  736  737  738  739  740  741  742  743\n",
      "  744  745  746  747  748  749  750  751  752  753  754  755  756  757\n",
      "  758  759  760  761  762  763  764  765  766  767  768  769  770  771\n",
      "  772  773  774  775  776  777  778  779  780  781  782  783  784  785\n",
      "  786  787  788  789  790  791  792  793  794  795  796  797  798  799\n",
      "  800  801  802  803  804  805  806  807  808  809  810  811  812  813\n",
      "  814  815  816  817  818  819  820  821  822  823  824  825  826  827\n",
      "  828  829  830  831  832  833  834  835  836  837  838  839  840  841\n",
      "  842  843  844  845  846  847  848  849  850  851  852  853  854  855\n",
      "  856  857  858  859  860  861  862  863  864  865  866  867  868  869\n",
      "  870  871  872  873  874  875  876  877  878  879  880  881  882  883\n",
      "  884  885  886  887  888  889  890  891  892  893  894  895  896  897\n",
      "  898  899  900  901  902  903  904  905  906  907  908  909  910  911\n",
      "  912  913  914  915  916  917  918  919  920  921  922  923  924  925\n",
      "  926  927  928  929  930  931  932  933  934  935  936  937  938  939\n",
      "  940  941  942  943  944  945  946  947  948  949  950  951  952  953\n",
      "  954  955  956  957  958  959  960  961  962  963  964  965  966  967\n",
      "  968  969  970  971  972  973  974  975  976  977  978  979  980  981\n",
      "  982  983  984  985  986  987  988  989  990  991  992  993  994  995\n",
      "  996  997  998  999 1000]\n",
      "[   2    3    4    5    6    8    9   10   11   12   13   15   16   17\n",
      "   18   19   20   22   23   24   25   26   27   29   30   31   32   33\n",
      "   34   36   37   38   39   40   41   43   44   45   46   47   48   50\n",
      "   51   52   53   54   55   57   58   59   60   61   62   64   65   66\n",
      "   67   68   69   71   72   73   74   75   76   78   79   80   81   82\n",
      "   83   85   86   87   88   89   90   92   93   94   95   96   97   99\n",
      "  100  101  102  103  104  106  107  108  109  110  111  113  114  115\n",
      "  116  117  118  120  121  122  123  124  125  127  128  129  130  131\n",
      "  132  134  135  136  137  138  139  141  142  143  144  145  146  148\n",
      "  149  150  151  152  153  155  156  157  158  159  160  162  163  164\n",
      "  165  166  167  169  170  171  172  173  174  176  177  178  179  180\n",
      "  181  183  184  185  186  187  188  190  191  192  193  194  195  197\n",
      "  198  199  200  201  202  204  205  206  207  208  209  211  212  213\n",
      "  214  215  216  218  219  220  221  222  223  225  226  227  228  229\n",
      "  230  232  233  234  235  236  237  239  240  241  242  243  244  246\n",
      "  247  248  249  250  251  253  254  255  256  257  258  260  261  262\n",
      "  263  264  265  267  268  269  270  271  272  274  275  276  277  278\n",
      "  279  281  282  283  284  285  286  288  289  290  291  292  293  295\n",
      "  296  297  298  299  300  302  303  304  305  306  307  309  310  311\n",
      "  312  313  314  316  317  318  319  320  321  323  324  325  326  327\n",
      "  328  330  331  332  333  334  335  337  338  339  340  341  342  344\n",
      "  345  346  347  348  349  351  352  353  354  355  356  358  359  360\n",
      "  361  362  363  365  366  367  368  369  370  372  373  374  375  376\n",
      "  377  379  380  381  382  383  384  386  387  388  389  390  391  393\n",
      "  394  395  396  397  398  400  401  402  403  404  405  407  408  409\n",
      "  410  411  412  414  415  416  417  418  419  421  422  423  424  425\n",
      "  426  428  429  430  431  432  433  435  436  437  438  439  440  442\n",
      "  443  444  445  446  447  449  450  451  452  453  454  456  457  458\n",
      "  459  460  461  463  464  465  466  467  468  470  471  472  473  474\n",
      "  475  477  478  479  480  481  482  484  485  486  487  488  489  491\n",
      "  492  493  494  495  496  498  499  500  501  502  503  505  506  507\n",
      "  508  509  510  512  513  514  515  516  517  519  520  521  522  523\n",
      "  524  526  527  528  529  530  531  533  534  535  536  537  538  540\n",
      "  541  542  543  544  545  547  548  549  550  551  552  554  555  556\n",
      "  557  558  559  561  562  563  564  565  566  568  569  570  571  572\n",
      "  573  575  576  577  578  579  580  582  583  584  585  586  587  589\n",
      "  590  591  592  593  594  596  597  598  599  600  601  603  604  605\n",
      "  606  607  608  610  611  612  613  614  615  617  618  619  620  621\n",
      "  622  624  625  626  627  628  629  631  632  633  634  635  636  638\n",
      "  639  640  641  642  643  645  646  647  648  649  650  652  653  654\n",
      "  655  656  657  659  660  661  662  663  664  666  667  668  669  670\n",
      "  671  673  674  675  676  677  678  680  681  682  683  684  685  687\n",
      "  688  689  690  691  692  694  695  696  697  698  699  701  702  703\n",
      "  704  705  706  708  709  710  711  712  713  715  716  717  718  719\n",
      "  720  722  723  724  725  726  727  729  730  731  732  733  734  736\n",
      "  737  738  739  740  741  743  744  745  746  747  748  750  751  752\n",
      "  753  754  755  757  758  759  760  761  762  764  765  766  767  768\n",
      "  769  771  772  773  774  775  776  778  779  780  781  782  783  785\n",
      "  786  787  788  789  790  792  793  794  795  796  797  799  800  801\n",
      "  802  803  804  806  807  808  809  810  811  813  814  815  816  817\n",
      "  818  820  821  822  823  824  825  827  828  829  830  831  832  834\n",
      "  835  836  837  838  839  841  842  843  844  845  846  848  849  850\n",
      "  851  852  853  855  856  857  858  859  860  862  863  864  865  866\n",
      "  867  869  870  871  872  873  874  876  877  878  879  880  881  883\n",
      "  884  885  886  887  888  890  891  892  893  894  895  897  898  899\n",
      "  900  901  902  904  905  906  907  908  909  911  912  913  914  915\n",
      "  916  918  919  920  921  922  923  925  926  927  928  929  930  932\n",
      "  933  934  935  936  937  939  940  941  942  943  944  946  947  948\n",
      "  949  950  951  953  954  955  956  957  958  960  961  962  963  964\n",
      "  965  967  968  969  970  971  972  974  975  976  977  978  979  981\n",
      "  982  983  984  985  986  988  989  990  991  992  993  995  996  997\n",
      "  998  999 1000]\n"
     ]
    }
   ],
   "source": [
    "# creo un array di range 2 - 1000 compresi\n",
    "array = np.arange(2, 1001)\n",
    "\n",
    "# creo un array solo con i valori che sono divisibili per 7\n",
    "array[array % 7 == 0]\n",
    "array"
   ]
  },
  {
   "cell_type": "code",
   "execution_count": 19,
   "id": "b540995c",
   "metadata": {},
   "outputs": [
    {
     "data": {
      "text/plain": [
       "array([   2,    3,    4,    5,    6,    8,    9,   10,   11,   12,   13,\n",
       "         15,   16,   17,   18,   19,   20,   22,   23,   24,   25,   26,\n",
       "         27,   29,   30,   31,   32,   33,   34,   36,   37,   38,   39,\n",
       "         40,   41,   43,   44,   45,   46,   47,   48,   50,   51,   52,\n",
       "         53,   54,   55,   57,   58,   59,   60,   61,   62,   64,   65,\n",
       "         66,   67,   68,   69,   71,   72,   73,   74,   75,   76,   78,\n",
       "         79,   80,   81,   82,   83,   85,   86,   87,   88,   89,   90,\n",
       "         92,   93,   94,   95,   96,   97,   99,  100,  101,  102,  103,\n",
       "        104,  106,  107,  108,  109,  110,  111,  113,  114,  115,  116,\n",
       "        117,  118,  120,  121,  122,  123,  124,  125,  127,  128,  129,\n",
       "        130,  131,  132,  134,  135,  136,  137,  138,  139,  141,  142,\n",
       "        143,  144,  145,  146,  148,  149,  150,  151,  152,  153,  155,\n",
       "        156,  157,  158,  159,  160,  162,  163,  164,  165,  166,  167,\n",
       "        169,  170,  171,  172,  173,  174,  176,  177,  178,  179,  180,\n",
       "        181,  183,  184,  185,  186,  187,  188,  190,  191,  192,  193,\n",
       "        194,  195,  197,  198,  199,  200,  201,  202,  204,  205,  206,\n",
       "        207,  208,  209,  211,  212,  213,  214,  215,  216,  218,  219,\n",
       "        220,  221,  222,  223,  225,  226,  227,  228,  229,  230,  232,\n",
       "        233,  234,  235,  236,  237,  239,  240,  241,  242,  243,  244,\n",
       "        246,  247,  248,  249,  250,  251,  253,  254,  255,  256,  257,\n",
       "        258,  260,  261,  262,  263,  264,  265,  267,  268,  269,  270,\n",
       "        271,  272,  274,  275,  276,  277,  278,  279,  281,  282,  283,\n",
       "        284,  285,  286,  288,  289,  290,  291,  292,  293,  295,  296,\n",
       "        297,  298,  299,  300,  302,  303,  304,  305,  306,  307,  309,\n",
       "        310,  311,  312,  313,  314,  316,  317,  318,  319,  320,  321,\n",
       "        323,  324,  325,  326,  327,  328,  330,  331,  332,  333,  334,\n",
       "        335,  337,  338,  339,  340,  341,  342,  344,  345,  346,  347,\n",
       "        348,  349,  351,  352,  353,  354,  355,  356,  358,  359,  360,\n",
       "        361,  362,  363,  365,  366,  367,  368,  369,  370,  372,  373,\n",
       "        374,  375,  376,  377,  379,  380,  381,  382,  383,  384,  386,\n",
       "        387,  388,  389,  390,  391,  393,  394,  395,  396,  397,  398,\n",
       "        400,  401,  402,  403,  404,  405,  407,  408,  409,  410,  411,\n",
       "        412,  414,  415,  416,  417,  418,  419,  421,  422,  423,  424,\n",
       "        425,  426,  428,  429,  430,  431,  432,  433,  435,  436,  437,\n",
       "        438,  439,  440,  442,  443,  444,  445,  446,  447,  449,  450,\n",
       "        451,  452,  453,  454,  456,  457,  458,  459,  460,  461,  463,\n",
       "        464,  465,  466,  467,  468,  470,  471,  472,  473,  474,  475,\n",
       "        477,  478,  479,  480,  481,  482,  484,  485,  486,  487,  488,\n",
       "        489,  491,  492,  493,  494,  495,  496,  498,  499,  500,  501,\n",
       "        502,  503,  505,  506,  507,  508,  509,  510,  512,  513,  514,\n",
       "        515,  516,  517,  519,  520,  521,  522,  523,  524,  526,  527,\n",
       "        528,  529,  530,  531,  533,  534,  535,  536,  537,  538,  540,\n",
       "        541,  542,  543,  544,  545,  547,  548,  549,  550,  551,  552,\n",
       "        554,  555,  556,  557,  558,  559,  561,  562,  563,  564,  565,\n",
       "        566,  568,  569,  570,  571,  572,  573,  575,  576,  577,  578,\n",
       "        579,  580,  582,  583,  584,  585,  586,  587,  589,  590,  591,\n",
       "        592,  593,  594,  596,  597,  598,  599,  600,  601,  603,  604,\n",
       "        605,  606,  607,  608,  610,  611,  612,  613,  614,  615,  617,\n",
       "        618,  619,  620,  621,  622,  624,  625,  626,  627,  628,  629,\n",
       "        631,  632,  633,  634,  635,  636,  638,  639,  640,  641,  642,\n",
       "        643,  645,  646,  647,  648,  649,  650,  652,  653,  654,  655,\n",
       "        656,  657,  659,  660,  661,  662,  663,  664,  666,  667,  668,\n",
       "        669,  670,  671,  673,  674,  675,  676,  677,  678,  680,  681,\n",
       "        682,  683,  684,  685,  687,  688,  689,  690,  691,  692,  694,\n",
       "        695,  696,  697,  698,  699,  701,  702,  703,  704,  705,  706,\n",
       "        708,  709,  710,  711,  712,  713,  715,  716,  717,  718,  719,\n",
       "        720,  722,  723,  724,  725,  726,  727,  729,  730,  731,  732,\n",
       "        733,  734,  736,  737,  738,  739,  740,  741,  743,  744,  745,\n",
       "        746,  747,  748,  750,  751,  752,  753,  754,  755,  757,  758,\n",
       "        759,  760,  761,  762,  764,  765,  766,  767,  768,  769,  771,\n",
       "        772,  773,  774,  775,  776,  778,  779,  780,  781,  782,  783,\n",
       "        785,  786,  787,  788,  789,  790,  792,  793,  794,  795,  796,\n",
       "        797,  799,  800,  801,  802,  803,  804,  806,  807,  808,  809,\n",
       "        810,  811,  813,  814,  815,  816,  817,  818,  820,  821,  822,\n",
       "        823,  824,  825,  827,  828,  829,  830,  831,  832,  834,  835,\n",
       "        836,  837,  838,  839,  841,  842,  843,  844,  845,  846,  848,\n",
       "        849,  850,  851,  852,  853,  855,  856,  857,  858,  859,  860,\n",
       "        862,  863,  864,  865,  866,  867,  869,  870,  871,  872,  873,\n",
       "        874,  876,  877,  878,  879,  880,  881,  883,  884,  885,  886,\n",
       "        887,  888,  890,  891,  892,  893,  894,  895,  897,  898,  899,\n",
       "        900,  901,  902,  904,  905,  906,  907,  908,  909,  911,  912,\n",
       "        913,  914,  915,  916,  918,  919,  920,  921,  922,  923,  925,\n",
       "        926,  927,  928,  929,  930,  932,  933,  934,  935,  936,  937,\n",
       "        939,  940,  941,  942,  943,  944,  946,  947,  948,  949,  950,\n",
       "        951,  953,  954,  955,  956,  957,  958,  960,  961,  962,  963,\n",
       "        964,  965,  967,  968,  969,  970,  971,  972,  974,  975,  976,\n",
       "        977,  978,  979,  981,  982,  983,  984,  985,  986,  988,  989,\n",
       "        990,  991,  992,  993,  995,  996,  997,  998,  999, 1000])"
      ]
     },
     "execution_count": 19,
     "metadata": {},
     "output_type": "execute_result"
    }
   ],
   "source": [
    "# ripero lo stesso procedimento per torvare i valori NON divisibili per 7\n",
    "array = np.arange(2, 1001)\n",
    "array_7 = array[array % 7 != 0]\n",
    "array_7"
   ]
  },
  {
   "cell_type": "markdown",
   "id": "658b73ab",
   "metadata": {},
   "source": [
    "### ESERCIZIO 3"
   ]
  },
  {
   "cell_type": "code",
   "execution_count": 36,
   "id": "96bddf0b",
   "metadata": {},
   "outputs": [
    {
     "data": {
      "text/plain": [
       "array([[0.0242749 , 0.29658474, 0.56189331, ..., 0.67009976, 0.72131697,\n",
       "        0.91562259],\n",
       "       [0.5758096 , 0.33198699, 0.15246359, ..., 0.15901882, 0.44831665,\n",
       "        0.17388868],\n",
       "       [0.88521555, 0.43255155, 0.74218777, ..., 0.43402319, 0.71745406,\n",
       "        0.89968231],\n",
       "       ...,\n",
       "       [0.52450429, 0.65359881, 0.31647861, ..., 0.14630778, 0.63934515,\n",
       "        0.61911376],\n",
       "       [0.885716  , 0.88451938, 0.38536426, ..., 0.61061278, 0.8566104 ,\n",
       "        0.08152756],\n",
       "       [0.48626448, 0.22239771, 0.57597055, ..., 0.86020209, 0.21884586,\n",
       "        0.97574369]])"
      ]
     },
     "execution_count": 36,
     "metadata": {},
     "output_type": "execute_result"
    }
   ],
   "source": [
    "n = 50\n",
    "# creo una matrice con valori casuali compresi tra 0 e 1 \n",
    "matrice = np.random.uniform(0, 1, [n, n])\n",
    "matrice"
   ]
  },
  {
   "cell_type": "code",
   "execution_count": 37,
   "id": "51f906a8",
   "metadata": {},
   "outputs": [
    {
     "data": {
      "text/plain": [
       "array([[0.0242749 , 0.29658474, 0.56189331, ..., 0.67009976, 0.72131697,\n",
       "        0.91562259],\n",
       "       [0.5758096 , 0.        , 0.        , ..., 0.        , 0.        ,\n",
       "        0.17388868],\n",
       "       [0.88521555, 0.        , 0.        , ..., 0.        , 0.        ,\n",
       "        0.89968231],\n",
       "       ...,\n",
       "       [0.52450429, 0.        , 0.        , ..., 0.        , 0.        ,\n",
       "        0.61911376],\n",
       "       [0.885716  , 0.        , 0.        , ..., 0.        , 0.        ,\n",
       "        0.08152756],\n",
       "       [0.48626448, 0.22239771, 0.57597055, ..., 0.86020209, 0.21884586,\n",
       "        0.97574369]])"
      ]
     },
     "execution_count": 37,
     "metadata": {},
     "output_type": "execute_result"
    }
   ],
   "source": [
    "# inserisco gli zeri nella parte centrale\n",
    "matrice[1:-1, 1:-1] = 0\n",
    "matrice"
   ]
  },
  {
   "cell_type": "code",
   "execution_count": 38,
   "id": "12cd7023",
   "metadata": {},
   "outputs": [
    {
     "data": {
      "text/plain": [
       "array([[0.0242749 , 0.29658474, 0.56189331, ..., 0.67009976, 0.72131697,\n",
       "        0.91562259],\n",
       "       [0.5758096 , 0.        , 0.        , ..., 0.        , 0.        ,\n",
       "        0.17388868],\n",
       "       [0.88521555, 0.        , 0.        , ..., 0.        , 0.        ,\n",
       "        0.89968231],\n",
       "       ...,\n",
       "       [0.52450429, 0.        , 0.        , ..., 0.        , 0.        ,\n",
       "        0.61911376],\n",
       "       [0.885716  , 0.        , 0.        , ..., 0.        , 0.        ,\n",
       "        0.08152756],\n",
       "       [0.48626448, 0.22239771, 0.57597055, ..., 0.86020209, 0.21884586,\n",
       "        0.97574369]])"
      ]
     },
     "execution_count": 38,
     "metadata": {},
     "output_type": "execute_result"
    }
   ],
   "source": [
    "# utilizzo una variabile per trovare la colonna centrale\n",
    "c = n//2\n",
    "\n",
    "# fisso la riga e meto gli 1 su tutta quella riga\n",
    "matrice[c, 1:-1] = 1\n",
    "matrice"
   ]
  },
  {
   "cell_type": "code",
   "execution_count": 39,
   "id": "e1ed6cf9",
   "metadata": {},
   "outputs": [
    {
     "data": {
      "text/plain": [
       "array([[0.0242749 , 0.29658474, 0.56189331, ..., 0.67009976, 0.72131697,\n",
       "        0.91562259],\n",
       "       [0.5758096 , 0.        , 0.        , ..., 0.        , 0.        ,\n",
       "        0.17388868],\n",
       "       [0.88521555, 0.        , 0.        , ..., 0.        , 0.        ,\n",
       "        0.89968231],\n",
       "       ...,\n",
       "       [0.52450429, 0.        , 0.        , ..., 0.        , 0.        ,\n",
       "        0.61911376],\n",
       "       [0.885716  , 0.        , 0.        , ..., 0.        , 0.        ,\n",
       "        0.08152756],\n",
       "       [0.48626448, 0.22239771, 0.57597055, ..., 0.86020209, 0.21884586,\n",
       "        0.97574369]])"
      ]
     },
     "execution_count": 39,
     "metadata": {},
     "output_type": "execute_result"
    }
   ],
   "source": [
    "# ripeto lo stesso procedimento per le colonne (fissando il secondo parametro)\n",
    "c = n // 2\n",
    "matrice[1:-1, c] = 1\n",
    "matrice"
   ]
  },
  {
   "cell_type": "code",
   "execution_count": 40,
   "id": "c94cb89d",
   "metadata": {},
   "outputs": [
    {
     "data": {
      "text/plain": [
       "<matplotlib.image.AxesImage at 0x1df434ec730>"
      ]
     },
     "execution_count": 40,
     "metadata": {},
     "output_type": "execute_result"
    },
    {
     "data": {
      "image/png": "[encoded data removed]",
      "text/plain": [
       "<Figure size 432x288 with 1 Axes>"
      ]
     },
     "metadata": {
      "needs_background": "light"
     },
     "output_type": "display_data"
    }
   ],
   "source": [
    "# funzione matplot per creare un disegno in pixel\n",
    "import matplotlib.pyplot as plt\n",
    "plt.imshow(matrice)"
   ]
  }
 ],
 "metadata": {
  "kernelspec": {
   "display_name": "Python 3 (ipykernel)",
   "language": "python",
   "name": "python3"
  },
  "language_info": {
   "codemirror_mode": {
    "name": "ipython",
    "version": 3
   },
   "file_extension": ".py",
   "mimetype": "text/x-python",
   "name": "python",
   "nbconvert_exporter": "python",
   "pygments_lexer": "ipython3",
   "version": "3.9.12"
  }
 },
 "nbformat": 4,
 "nbformat_minor": 5
}
