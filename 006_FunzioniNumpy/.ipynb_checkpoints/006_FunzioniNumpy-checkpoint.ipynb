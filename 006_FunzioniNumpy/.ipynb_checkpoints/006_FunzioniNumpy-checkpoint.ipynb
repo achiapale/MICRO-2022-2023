{
 "cells": [
  {
   "cell_type": "markdown",
   "id": "66ca0f1d",
   "metadata": {},
   "source": [
    "# FUNZIONI PRINCIPALI DI NUMPY"
   ]
  },
  {
   "cell_type": "code",
   "execution_count": 2,
   "id": "37e23d04",
   "metadata": {},
   "outputs": [],
   "source": [
    "# alias: importo una libreria e poi la uso con il nome che decido\n",
    "import numpy as np"
   ]
  },
  {
   "cell_type": "markdown",
   "id": "70e15b1b",
   "metadata": {},
   "source": [
    "### CREAZIONE DELL'ARRAY"
   ]
  },
  {
   "cell_type": "code",
   "execution_count": 4,
   "id": "2ecc9d6a",
   "metadata": {},
   "outputs": [
    {
     "data": {
      "text/plain": [
       "numpy.ndarray"
      ]
     },
     "execution_count": 4,
     "metadata": {},
     "output_type": "execute_result"
    }
   ],
   "source": [
    "#creazione classica\n",
    "lista = [1,2,3,4]\n",
    "array = np.array(lista)\n",
    "#diventa un array di tipo numpy\n",
    "type(array)"
   ]
  },
  {
   "cell_type": "markdown",
   "id": "5fddd136",
   "metadata": {},
   "source": [
    "### OPERATORI SU ARRAY E LISTE"
   ]
  },
  {
   "cell_type": "code",
   "execution_count": 5,
   "id": "d792074f",
   "metadata": {},
   "outputs": [
    {
     "data": {
      "text/plain": [
       "[1, 2, 3, 4, 1, 2, 3, 4, 1, 2, 3, 4]"
      ]
     },
     "execution_count": 5,
     "metadata": {},
     "output_type": "execute_result"
    }
   ],
   "source": [
    "#l'array moltiplica ogni valore per quello definito (3)\n",
    "3*array\n",
    "#la lista ripete la lista di elementi per il valore definito (3)\n",
    "3*lista"
   ]
  },
  {
   "cell_type": "markdown",
   "id": "849c0287",
   "metadata": {},
   "source": [
    "### COPIA E MODIFICHE VELOCI NELL'ARRAY"
   ]
  },
  {
   "cell_type": "code",
   "execution_count": 20,
   "id": "bb483d4a",
   "metadata": {},
   "outputs": [],
   "source": [
    "#copia dell'array\n",
    "a = array.copy()\n",
    "#sencondo array con gli elementi invertiti\n",
    "b = np.array(lista[::-1])\n",
    "#somma ogni elemento in ordine tra i due array\n",
    "a+b"
   ]
  },
  {
   "cell_type": "markdown",
   "id": "20bc1005",
   "metadata": {},
   "source": [
    "### FUNZIONI STANDARD NUMPY"
   ]
  },
  {
   "cell_type": "code",
   "execution_count": null,
   "id": "b2ba35c4",
   "metadata": {},
   "outputs": [],
   "source": [
    "#array di zeri (normalmente float)\n",
    "zeri = np.zeros(10)\n",
    "#per farli interi\n",
    "zeri = np.zeros(10, dtype=np.int8)\n",
    "\n",
    "#array di uno (sempre in float)\n",
    "uni = np.ones(10)\n"
   ]
  },
  {
   "cell_type": "markdown",
   "id": "4aee10c7",
   "metadata": {},
   "source": [
    "### ARRAY PSEUDO-CASUALI"
   ]
  },
  {
   "cell_type": "code",
   "execution_count": 12,
   "id": "caf8b20a",
   "metadata": {},
   "outputs": [
    {
     "name": "stdout",
     "output_type": "stream",
     "text": [
      "3.2073108120825964\n"
     ]
    }
   ],
   "source": [
    "#array da 10 con valori compresi tra 1 e 2\n",
    "np.random.uniform(1,2, 10)\n",
    "# se voglio creare dei float\n",
    "np.random.uniform(0., 10., 5)\n",
    "\n",
    "#posso anche richiamare il paramtero tramite il nome della funzione\n",
    "np.random.uniform(size = 10)\n",
    "\n",
    "#per i valori interi (estremo low: incluso; esteremo High: escluso)\n",
    "np.random.randint(1,6,10)\n"
   ]
  },
  {
   "cell_type": "markdown",
   "id": "a2905f2f",
   "metadata": {},
   "source": [
    "#### ESEMPIO CON UN LANCIO DADI"
   ]
  },
  {
   "cell_type": "code",
   "execution_count": 32,
   "id": "4d3ae3ef",
   "metadata": {},
   "outputs": [
    {
     "name": "stdout",
     "output_type": "stream",
     "text": [
      "Lanci di Alice: [2 5 5 5 6 5 1 5 3 5]\n",
      "Lanci di Bob: [6 6 3 1 6 4 6 2 2 6]\n"
     ]
    },
    {
     "data": {
      "text/plain": [
       "dtype('bool')"
      ]
     },
     "execution_count": 32,
     "metadata": {},
     "output_type": "execute_result"
    }
   ],
   "source": [
    "#lanci di due dadi per 10 volte\n",
    "alice = np.random.randint(1,7,10)\n",
    "bob = np.random.randint(1,7,10)\n",
    "\n",
    "#stampo i valori\n",
    "print(f\"Lanci di Alice: {alice}\")\n",
    "print(f\"Lanci di Bob: {bob}\")\n",
    "\n",
    "#voglio vedere quante volte alice ha avuto un risultato maggiore a quello di bob\n",
    "aliceVince = alice > bob\n",
    "\n",
    "#il dtype della lista sarà intero \n",
    "alice.dtype\n",
    "\n",
    "#il dtype dell'array sarà bool\n",
    "aliceVince.dtype"
   ]
  },
  {
   "cell_type": "markdown",
   "id": "0ca0be8b",
   "metadata": {},
   "source": [
    "#### INIDICIZZAZIONE BOOLEANA"
   ]
  },
  {
   "cell_type": "code",
   "execution_count": 31,
   "id": "f2735974",
   "metadata": {},
   "outputs": [
    {
     "data": {
      "text/plain": [
       "array([1, 4, 1, 1])"
      ]
     },
     "execution_count": 31,
     "metadata": {},
     "output_type": "execute_result"
    }
   ],
   "source": [
    "#verifico per quali valori alice vince contro bob e viceversa(restituisce un array)\n",
    "alice[aliceVince]\n",
    "bob[aliceVince]"
   ]
  },
  {
   "cell_type": "markdown",
   "id": "fdd9ceeb",
   "metadata": {},
   "source": [
    "### FUNZIONI CON I NUMERI NUMPY"
   ]
  },
  {
   "cell_type": "code",
   "execution_count": 30,
   "id": "dd49cdf4",
   "metadata": {},
   "outputs": [
    {
     "data": {
      "text/plain": [
       "array([0. , 0.5, 1. , 1.5, 2. , 2.5, 3. , 3.5, 4. , 4.5, 5. ])"
      ]
     },
     "execution_count": 30,
     "metadata": {},
     "output_type": "execute_result"
    }
   ],
   "source": [
    "#ritorna dei valori equispaziati in un intervallo\n",
    "#va da n1 a n2 facendo salti di n3 (ultimo SEMPRE escluso)\n",
    "np.arange(3,20,3)\n",
    "np.arange(20)\n",
    "\n",
    "#intervalli di numeri reali\n",
    "#suddivide in un intervallo[n1, n2] crea un'array di n3 valori dove i numeri sono divisi in parti uguali\n",
    "np.linspace(0.0, 5.0, 11)\n",
    "\n",
    "#inverte un array\n",
    "arrayInvertito = array[::-1]"
   ]
  },
  {
   "cell_type": "markdown",
   "id": "d129abbc",
   "metadata": {},
   "source": [
    "#### ESERCIZIO TESTA-CROCE"
   ]
  },
  {
   "cell_type": "code",
   "execution_count": 29,
   "id": "5068f8d2",
   "metadata": {},
   "outputs": [
    {
     "name": "stdout",
     "output_type": "stream",
     "text": [
      "Testa\n",
      "['Croce' 'Croce' 'Testa' 'Croce' 'Croce']\n",
      "['Croce' 'Testa' 'Testa' 'Testa' 'Testa' 'Croce' 'Testa' 'Croce' 'Croce'\n",
      " 'Testa']\n"
     ]
    }
   ],
   "source": [
    "#sceglie un valore a caso da una lista, se voglio fare un array aggiungo il\n",
    "# valore di numeri che devono essere estratti\n",
    "print(np.random.choice([\"Testa\", \"Croce\"]))\n",
    "print(np.random.choice([\"Testa\", \"Croce\"], 5))\n",
    "\n",
    "#si può simulare una moneta truccata, ovvero che posso aggiungere una probabilità agli eventi\n",
    "#la somma delle probabilità DEVE essere 1\n",
    "print(np.random.choice([\"Testa\", \"Croce\"], 10, p=[.7,.3]))"
   ]
  },
  {
   "cell_type": "markdown",
   "id": "3e2cb6df",
   "metadata": {},
   "source": [
    "### CURVA GAUSSIANA o NORMALE"
   ]
  },
  {
   "cell_type": "code",
   "execution_count": 15,
   "id": "2bd6365f",
   "metadata": {},
   "outputs": [],
   "source": [
    "#crea un array con valore medio, varianza, dimensione\n",
    "np.random.normal(1., 1., 10)\n",
    "\n",
    "#curva dell'altezza delle persone (array unidimensionale)\n",
    "altezze = np.random.normal(178, 10, 20)\n",
    "\n",
    "#stampa una matrice con n1 righe e n2 colonne della tupla (bidimensionali)\n",
    "# secondo indice gaussiano\n",
    "altezze = np.random.normal(178, 10, (5,7))"
   ]
  },
  {
   "cell_type": "markdown",
   "id": "377c9db5",
   "metadata": {},
   "source": [
    "### MASSIMI e MINIMI"
   ]
  },
  {
   "cell_type": "code",
   "execution_count": 17,
   "id": "b7c1c5a3",
   "metadata": {},
   "outputs": [
    {
     "data": {
      "text/plain": [
       "159.15681940040312"
      ]
     },
     "execution_count": 17,
     "metadata": {},
     "output_type": "execute_result"
    }
   ],
   "source": [
    "np.max(altezze)\n",
    "np.min(altezze)"
   ]
  },
  {
   "cell_type": "markdown",
   "id": "569b0808",
   "metadata": {},
   "source": [
    "### MATRICI"
   ]
  },
  {
   "cell_type": "code",
   "execution_count": 20,
   "id": "a2909bad",
   "metadata": {},
   "outputs": [],
   "source": [
    "#generazione di array bidimensionali partendo da una lista\n",
    "array_2d = np.array([[1,2,3], [4,5,6]])\n",
    "# shape restituisce il numero di righe e colonne (array_2d.shape)"
   ]
  },
  {
   "cell_type": "code",
   "execution_count": 21,
   "id": "ee10718a",
   "metadata": {},
   "outputs": [],
   "source": [
    "#generatore di matrici casuale\n",
    "array_2d_casuale = np.random.uniform(0., 1., (8, 2))"
   ]
  },
  {
   "cell_type": "code",
   "execution_count": 23,
   "id": "f7a03142",
   "metadata": {},
   "outputs": [
    {
     "data": {
      "text/plain": [
       "array([[0.49692945, 0.71673625],\n",
       "       [0.30173185, 0.21109099],\n",
       "       [0.58060326, 0.15963761],\n",
       "       [0.84174841, 0.39520014],\n",
       "       [0.83058476, 0.87585115],\n",
       "       [0.26001379, 0.8991743 ],\n",
       "       [0.42387856, 0.65177085],\n",
       "       [0.75245719, 0.23619236]])"
      ]
     },
     "execution_count": 23,
     "metadata": {},
     "output_type": "execute_result"
    }
   ],
   "source": [
    "#stampa il valore dell'array nella prima riga e prima colonna\n",
    "array_2d_casuale[0,0]\n",
    "#stampo la prima colonna\n",
    "array_2d_casuale[:,0]\n",
    "#tutto l'array\n",
    "array_2d_casuale[:,:]"
   ]
  },
  {
   "cell_type": "markdown",
   "id": "92238449",
   "metadata": {},
   "source": [
    "#### BLOCCO delle MATRICI"
   ]
  },
  {
   "cell_type": "code",
   "execution_count": 26,
   "id": "52d6d69b",
   "metadata": {},
   "outputs": [],
   "source": [
    "# simile allo slicing di python; stampo dalla riga 2 alla riga 5 esclusa\n",
    "array_2d_casuale[2:5,:]\n",
    "\n",
    "# il blocco si può anche usare per assegnare\n",
    "# sostituisco 1. in tutti gli elementi di quel blocco\n",
    "array_2d_casuale[2:5,:] = 1."
   ]
  },
  {
   "cell_type": "markdown",
   "id": "3cf03138",
   "metadata": {},
   "source": [
    "### INDICIZZAZIONE BOOLEANA"
   ]
  },
  {
   "cell_type": "code",
   "execution_count": 27,
   "id": "585ee14f",
   "metadata": {},
   "outputs": [
    {
     "data": {
      "text/plain": [
       "array([0, 2, 4])"
      ]
     },
     "execution_count": 27,
     "metadata": {},
     "output_type": "execute_result"
    }
   ],
   "source": [
    "#array numpy indicizzati come booleani\n",
    "array = np.arange(0, 5)\n",
    "\n",
    "#trovo solo i numeri pari\n",
    "divisibilePerDue = array%2==0\n",
    "array[divisibilePerDue]\n",
    "\n",
    "#posso anche fare delle assegnazioni\n",
    "array[divisibilePerDue] = 999"
   ]
  },
  {
   "cell_type": "markdown",
   "id": "e4580ae7",
   "metadata": {},
   "source": [
    "### FANCY INDEXING o ARRAY DI INDICI"
   ]
  },
  {
   "cell_type": "code",
   "execution_count": 4,
   "id": "5b19599f",
   "metadata": {},
   "outputs": [
    {
     "data": {
      "text/plain": [
       "array([8.78567113e-03, 9.99000000e+02, 9.99000000e+02, 6.59914459e-02,\n",
       "       7.52760172e-01, 4.39473021e-01, 9.24594833e-01, 6.12415645e-01,\n",
       "       4.90412631e-01, 9.99000000e+02])"
      ]
     },
     "execution_count": 4,
     "metadata": {},
     "output_type": "execute_result"
    }
   ],
   "source": [
    "# creo un array di 10 numeri float casuali\n",
    "array = np.random.uniform(0., 1., 10)\n",
    "# assegna a più elementi contemporaneamente il valore\n",
    "array[np.array([1,2,9])] = 999\n",
    "array"
   ]
  },
  {
   "cell_type": "markdown",
   "id": "85e6e6b2",
   "metadata": {},
   "source": [
    "### OPERAZIONI MATEMATICHE: IL BROADCAST\n",
    "##### il broadcast combina due o più array con operazioni matematiche (a patto che abbiano stessa dimensione)"
   ]
  },
  {
   "cell_type": "code",
   "execution_count": 9,
   "id": "81e6e286",
   "metadata": {},
   "outputs": [
    {
     "data": {
      "text/plain": [
       "array([11, 12, 13, 14, 15])"
      ]
     },
     "execution_count": 9,
     "metadata": {},
     "output_type": "execute_result"
    }
   ],
   "source": [
    "array = np.array([1, 2, 3, 4, 5])\n",
    "\n",
    "# moltiplicazione\n",
    "array * 2"
   ]
  },
  {
   "cell_type": "code",
   "execution_count": 12,
   "id": "65972d81",
   "metadata": {},
   "outputs": [
    {
     "data": {
      "text/plain": [
       "array([11, 12, 13, 14, 15])"
      ]
     },
     "execution_count": 12,
     "metadata": {},
     "output_type": "execute_result"
    }
   ],
   "source": [
    "# somma\n",
    "array + 10"
   ]
  },
  {
   "cell_type": "code",
   "execution_count": 13,
   "id": "4b4aeace",
   "metadata": {},
   "outputs": [
    {
     "data": {
      "text/plain": [
       "array([  2.71828183,   7.3890561 ,  20.08553692,  54.59815003,\n",
       "       148.4131591 ])"
      ]
     },
     "execution_count": 13,
     "metadata": {},
     "output_type": "execute_result"
    }
   ],
   "source": [
    "# elevamento a potenza\n",
    "np.exp(array)"
   ]
  },
  {
   "cell_type": "code",
   "execution_count": 14,
   "id": "0156c3a4",
   "metadata": {},
   "outputs": [
    {
     "data": {
      "text/plain": [
       "array([1.        , 1.41421356, 1.73205081, 2.        , 2.23606798])"
      ]
     },
     "execution_count": 14,
     "metadata": {},
     "output_type": "execute_result"
    }
   ],
   "source": [
    "# radice quadrata\n",
    "np.sqrt(array)"
   ]
  },
  {
   "cell_type": "markdown",
   "id": "b9f8c5a5",
   "metadata": {},
   "source": [
    "### IL BROADCAST"
   ]
  },
  {
   "cell_type": "code",
   "execution_count": 15,
   "id": "724bdd8d",
   "metadata": {},
   "outputs": [
    {
     "data": {
      "text/plain": [
       "array([0, 0, 0, 0, 0])"
      ]
     },
     "execution_count": 15,
     "metadata": {},
     "output_type": "execute_result"
    }
   ],
   "source": [
    "array2 = np.array([-1, -2, -3, -4, -5])\n",
    "# somma elemento per elemento\n",
    "# si possono sommare solo array della stessa dimensione\n",
    "array + array2"
   ]
  },
  {
   "cell_type": "code",
   "execution_count": 3,
   "id": "1e8f4a0f",
   "metadata": {},
   "outputs": [
    {
     "data": {
      "text/plain": [
       "array([[1.36055021, 1.36055021, 1.36055021, 1.36055021, 1.36055021],\n",
       "       [1.07299018, 1.07299018, 1.07299018, 1.07299018, 1.07299018],\n",
       "       [1.3208938 , 1.3208938 , 1.3208938 , 1.3208938 , 1.3208938 ],\n",
       "       [1.72702613, 1.72702613, 1.72702613, 1.72702613, 1.72702613],\n",
       "       [1.66178499, 1.66178499, 1.66178499, 1.66178499, 1.66178499]])"
      ]
     },
     "execution_count": 3,
     "metadata": {},
     "output_type": "execute_result"
    }
   ],
   "source": [
    "# il broadcast funziona anche sulle matrici\n",
    "matrice = np.ones((5,5))\n",
    "# posso sommare tutti gli eementi (mettendo 5,5)\n",
    "# tutte le colonne (5, 1)\n",
    "matrice2 = np.random.uniform(0,1,(5,1))\n",
    "matrice + matrice2"
   ]
  },
  {
   "cell_type": "code",
   "execution_count": 5,
   "id": "0dea93eb",
   "metadata": {},
   "outputs": [
    {
     "data": {
      "text/plain": [
       "array([[5., 5., 5., 5., 5.],\n",
       "       [5., 5., 5., 5., 5.],\n",
       "       [5., 5., 5., 5., 5.],\n",
       "       [5., 5., 5., 5., 5.],\n",
       "       [5., 5., 5., 5., 5.]])"
      ]
     },
     "execution_count": 5,
     "metadata": {},
     "output_type": "execute_result"
    }
   ],
   "source": [
    "# creo una matrice di 5\n",
    "matrice_5 = 4+np.ones((5, 5))\n",
    "matrice_5"
   ]
  },
  {
   "cell_type": "code",
   "execution_count": null,
   "id": "7b6c73cc",
   "metadata": {},
   "outputs": [],
   "source": []
  }
 ],
 "metadata": {
  "kernelspec": {
   "display_name": "Python 3 (ipykernel)",
   "language": "python",
   "name": "python3"
  },
  "language_info": {
   "codemirror_mode": {
    "name": "ipython",
    "version": 3
   },
   "file_extension": ".py",
   "mimetype": "text/x-python",
   "name": "python",
   "nbconvert_exporter": "python",
   "pygments_lexer": "ipython3",
   "version": "3.9.12"
  }
 },
 "nbformat": 4,
 "nbformat_minor": 5
}
