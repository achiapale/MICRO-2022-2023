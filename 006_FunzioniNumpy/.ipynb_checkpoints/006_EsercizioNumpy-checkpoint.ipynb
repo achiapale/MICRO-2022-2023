{
 "cells": [
  {
   "cell_type": "markdown",
   "id": "66ca0f1d",
   "metadata": {},
   "source": [
    "# FUNZIONI PRINCIPALI DI NUMPY"
   ]
  },
  {
   "cell_type": "code",
   "execution_count": 2,
   "id": "37e23d04",
   "metadata": {},
   "outputs": [],
   "source": [
    "# alias: importo una libreria e poi la uso con il nome che decido\n",
    "import numpy as np"
   ]
  },
  {
   "cell_type": "code",
   "execution_count": 15,
   "id": "e1feba17",
   "metadata": {},
   "outputs": [],
   "source": [
    "lista = [1,2,3,4]"
   ]
  },
  {
   "cell_type": "code",
   "execution_count": 16,
   "id": "2ecc9d6a",
   "metadata": {},
   "outputs": [],
   "source": [
    "#crea un array della mia lista\n",
    "array = np.array(lista)"
   ]
  },
  {
   "cell_type": "code",
   "execution_count": 17,
   "id": "35c9a03b",
   "metadata": {},
   "outputs": [
    {
     "data": {
      "text/plain": [
       "numpy.ndarray"
      ]
     },
     "execution_count": 17,
     "metadata": {},
     "output_type": "execute_result"
    }
   ],
   "source": [
    "#diventa un array di tipo numpy\n",
    "type(array)"
   ]
  },
  {
   "cell_type": "code",
   "execution_count": 18,
   "id": "d792074f",
   "metadata": {},
   "outputs": [
    {
     "data": {
      "text/plain": [
       "array([ 3,  6,  9, 12])"
      ]
     },
     "execution_count": 18,
     "metadata": {},
     "output_type": "execute_result"
    }
   ],
   "source": [
    "#esempi sul funzionamento dell'array\n",
    "#l'array moltiplica ogni valore per quello definito (3)\n",
    "3*array"
   ]
  },
  {
   "cell_type": "code",
   "execution_count": 19,
   "id": "8e7b9c5a",
   "metadata": {},
   "outputs": [
    {
     "data": {
      "text/plain": [
       "[1, 2, 3, 4, 1, 2, 3, 4, 1, 2, 3, 4]"
      ]
     },
     "execution_count": 19,
     "metadata": {},
     "output_type": "execute_result"
    }
   ],
   "source": [
    "#la lista ripete la lista di elementi per il valore definito (3)\n",
    "3*lista"
   ]
  },
  {
   "cell_type": "code",
   "execution_count": 20,
   "id": "bb483d4a",
   "metadata": {},
   "outputs": [],
   "source": [
    "#copia dell'array\n",
    "a = array.copy()"
   ]
  },
  {
   "cell_type": "code",
   "execution_count": 21,
   "id": "51963a33",
   "metadata": {},
   "outputs": [],
   "source": [
    "#sencondo array con gli elementi invertiti\n",
    "b = np.array(lista[::-1])"
   ]
  },
  {
   "cell_type": "code",
   "execution_count": 22,
   "id": "b2cd6497",
   "metadata": {},
   "outputs": [
    {
     "data": {
      "text/plain": [
       "array([5, 5, 5, 5])"
      ]
     },
     "execution_count": 22,
     "metadata": {},
     "output_type": "execute_result"
    }
   ],
   "source": [
    "#somma ogni elemento in ordine tra i due array\n",
    "a+b"
   ]
  },
  {
   "cell_type": "code",
   "execution_count": 23,
   "id": "d719519e",
   "metadata": {},
   "outputs": [
    {
     "data": {
      "text/plain": [
       "array([4, 3, 3, 5, 2, 1, 3, 5, 2, 5])"
      ]
     },
     "execution_count": 23,
     "metadata": {},
     "output_type": "execute_result"
    }
   ],
   "source": [
    "#come si costruiscono gli array\n",
    "    #classico\n",
    "    #array = np.array(lista)\n",
    "#funzioni di numpy standard\n",
    "    #array di zeri (normalmente float)\n",
    "zeri = np.zeros(10)\n",
    "    #per farli interi\n",
    "zeri = np.zeros(10, dtype=np.int8)\n",
    "#zeri\n",
    "    #array di uno (sempre in float)\n",
    "uni = np.ones(10)\n",
    "#uni\n",
    "    #array di numeri pseudo-casuali\n",
    "    #array da 10 con valori compresi tra 1 e 2\n",
    "np.random.uniform(1,2, 10)\n",
    "    #posso anche richiamare il paramtero tramite il nome della funzione\n",
    "np.random.uniform(size = 10)\n",
    "    #per i valori interi (estremo low: incluso; esteremo High: escluso)\n",
    "np.random.randint(1,6,10)"
   ]
  },
  {
   "cell_type": "code",
   "execution_count": 27,
   "id": "4d3ae3ef",
   "metadata": {},
   "outputs": [
    {
     "name": "stdout",
     "output_type": "stream",
     "text": [
      "Lanci di Alice: [5 6 1 3 1 1 6 2 5 2]\n",
      "Lanci di Bob: [5 4 1 3 3 1 5 6 5 3]\n"
     ]
    },
    {
     "data": {
      "text/plain": [
       "array([False,  True, False, False, False, False,  True, False, False,\n",
       "       False])"
      ]
     },
     "execution_count": 27,
     "metadata": {},
     "output_type": "execute_result"
    }
   ],
   "source": [
    "#simulo dei lanci di due dadi per 10 volte\n",
    "alice = np.random.randint(1,7,10)\n",
    "bob = np.random.randint(1,7,10)\n",
    "\n",
    "#stampo i valori\n",
    "print(f\"Lanci di Alice: {alice}\")\n",
    "print(f\"Lanci di Bob: {bob}\")\n",
    "\n",
    "#voglio vedere quante volte alice ha avuto un risultato maggiore a quello di bob\n",
    "aliceVince = alice > bob\n",
    "aliceVince"
   ]
  },
  {
   "cell_type": "code",
   "execution_count": 26,
   "id": "ef81208c",
   "metadata": {},
   "outputs": [
    {
     "data": {
      "text/plain": [
       "dtype('int32')"
      ]
     },
     "execution_count": 26,
     "metadata": {},
     "output_type": "execute_result"
    }
   ],
   "source": [
    "#vado a vedere il valore dell'attrivuto dtype (vado a vedere il tipo)\n",
    "print(alice.dtype)\n",
    "\n",
    "#verifico il tipo dell'array\n",
    "print(aliceVince.dtype)"
   ]
  },
  {
   "cell_type": "code",
   "execution_count": 33,
   "id": "f2735974",
   "metadata": {},
   "outputs": [
    {
     "name": "stdout",
     "output_type": "stream",
     "text": [
      "[6 6]\n",
      "[4 5]\n"
     ]
    }
   ],
   "source": [
    "#verifico per quali valori alice vince contro bob e viceversa(restituisce un array)\n",
    "#si chiama indicizzazione booleana\n",
    "print(alice[aliceVince])\n",
    "print(bob[aliceVince])"
   ]
  },
  {
   "cell_type": "code",
   "execution_count": 35,
   "id": "dd49cdf4",
   "metadata": {},
   "outputs": [
    {
     "name": "stdout",
     "output_type": "stream",
     "text": [
      "[ 3  6  9 12 15 18]\n",
      "[ 0  1  2  3  4  5  6  7  8  9 10 11 12 13 14 15 16 17 18 19]\n"
     ]
    }
   ],
   "source": [
    "#ritorna dei valori equispaziati in un intervallo\n",
    "#va da n1 a n2 facendo salti di n3 (ultimo SEMPRE escluso)\n",
    "print(np.arange(3,20,3))\n",
    "print(np.arange(20))"
   ]
  },
  {
   "cell_type": "code",
   "execution_count": 40,
   "id": "3f32146e",
   "metadata": {},
   "outputs": [
    {
     "data": {
      "text/plain": [
       "array([0. , 0.5, 1. , 1.5, 2. , 2.5, 3. , 3.5, 4. , 4.5, 5. ])"
      ]
     },
     "execution_count": 40,
     "metadata": {},
     "output_type": "execute_result"
    }
   ],
   "source": [
    "#intervalli di numeri reali\n",
    "#suddivide in un intervallo[n1, n2] crea un'array di n3 valori dove i numeri sono divisi in parti uguali\n",
    "np.linspace(0.0, 5.0, 11)"
   ]
  },
  {
   "cell_type": "code",
   "execution_count": 43,
   "id": "879c07bd",
   "metadata": {},
   "outputs": [
    {
     "name": "stdout",
     "output_type": "stream",
     "text": [
      "9.44612084037921\n",
      "[3.59862528 0.78506514 8.33820474 4.89693087 3.71701291]\n"
     ]
    }
   ],
   "source": [
    "#genera un numero casuale\n",
    "#se voglio fare un array, aggiungo size = n\n",
    "print(np.random.uniform(0., 10.))\n",
    "print(np.random.uniform(0., 10., 5))"
   ]
  },
  {
   "cell_type": "code",
   "execution_count": 46,
   "id": "5068f8d2",
   "metadata": {},
   "outputs": [
    {
     "name": "stdout",
     "output_type": "stream",
     "text": [
      "Testa\n",
      "['Croce' 'Croce' 'Testa' 'Testa' 'Croce']\n",
      "['Testa' 'Testa' 'Testa' 'Croce' 'Testa' 'Croce' 'Testa' 'Testa' 'Testa'\n",
      " 'Testa']\n"
     ]
    }
   ],
   "source": [
    "#sceglie un valore a caso da una lista, se voglio fare un array aggiungo il valore di numeri che devono essere estratti\n",
    "print(np.random.choice([\"Testa\", \"Croce\"]))\n",
    "print(np.random.choice([\"Testa\", \"Croce\"], 5))\n",
    "\n",
    "#si può simulare una moneta truccata, ovvero che posso aggiungere una probabilità agli eventi\n",
    "#la somma delle probabilità DEVE essere 1\n",
    "print(np.random.choice([\"Testa\", \"Croce\"], 10, p=[.7,.3]))"
   ]
  },
  {
   "cell_type": "code",
   "execution_count": 7,
   "id": "2bd6365f",
   "metadata": {},
   "outputs": [
    {
     "name": "stdout",
     "output_type": "stream",
     "text": [
      "[202.18134365 180.49859884 189.36577224 182.460728   161.4019449\n",
      " 193.24842992 187.82783791 185.72997318 188.12853123 155.30163579\n",
      " 171.22685227 174.07499191 184.68670592 171.50134508 190.08280717\n",
      " 190.27829146 190.44022182 160.25587929 179.94786164 169.79192765]\n"
     ]
    }
   ],
   "source": [
    "#curva gaussiana o normale\n",
    "np.random.normal(1., 1., 10)\n",
    "\n",
    "#curva dell'altezza delle persone (array unidimensionale)\n",
    "altezze = np.random.normal(178, 10, 20)\n",
    "print(altezze)"
   ]
  },
  {
   "cell_type": "code",
   "execution_count": 8,
   "id": "b7c1c5a3",
   "metadata": {},
   "outputs": [
    {
     "name": "stdout",
     "output_type": "stream",
     "text": [
      "202.18134365035752\n",
      "155.3016357937667\n"
     ]
    }
   ],
   "source": [
    "#massimi e minimi in un array\n",
    "print(np.max(altezze))\n",
    "print(np.min(altezze))"
   ]
  },
  {
   "cell_type": "code",
   "execution_count": 9,
   "id": "34e52fb5",
   "metadata": {},
   "outputs": [
    {
     "name": "stdout",
     "output_type": "stream",
     "text": [
      "[[188.71792555 186.32349778 188.10741192 179.15473388 164.33697595\n",
      "  179.29192887 174.5883576 ]\n",
      " [178.49316773 194.39884394 187.72430891 173.49017601 166.6734388\n",
      "  189.87714803 187.46678062]\n",
      " [168.00960564 177.89157456 146.90646281 173.52809556 180.85711553\n",
      "  183.600725   166.91891036]\n",
      " [174.80145952 188.13920525 171.9619065  171.38842241 167.10264151\n",
      "  184.15765346 181.85618978]\n",
      " [177.13002017 179.81486778 188.38156813 191.13185187 185.16278373\n",
      "  176.46050867 200.42089351]]\n"
     ]
    }
   ],
   "source": [
    "#stampa una matrice con n1 righe e n2 colonne della tupla (bidimensionali)\n",
    "altezze = np.random.normal(178, 10, (5,7))\n",
    "print(altezze)"
   ]
  },
  {
   "cell_type": "code",
   "execution_count": 12,
   "id": "a2909bad",
   "metadata": {},
   "outputs": [
    {
     "name": "stdout",
     "output_type": "stream",
     "text": [
      "(2, 3)\n"
     ]
    }
   ],
   "source": [
    "#generazione di array bidimensionali partendo da una lista\n",
    "array_2d = np.array([[1,2,3], [4,5,6]])\n",
    "#shape restituisce il numero di righe e colonne\n",
    "print(array_2d.shape)"
   ]
  },
  {
   "cell_type": "code",
   "execution_count": 32,
   "id": "ee10718a",
   "metadata": {},
   "outputs": [
    {
     "name": "stdout",
     "output_type": "stream",
     "text": [
      "[[0.37444191 0.04178586]\n",
      " [0.66658372 0.34228358]\n",
      " [0.2609937  0.59795247]\n",
      " [0.37122441 0.96641288]\n",
      " [0.72260602 0.15575193]\n",
      " [0.8071636  0.84820992]\n",
      " [0.47740203 0.42050228]\n",
      " [0.45442559 0.74767239]]\n"
     ]
    }
   ],
   "source": [
    "#generatore di array bidimensionale casuale\n",
    "array_2d_casuale = np.random.uniform(0., 1., (8, 2))\n",
    "print(array_2d_casuale)"
   ]
  },
  {
   "cell_type": "code",
   "execution_count": 27,
   "id": "8a42d252",
   "metadata": {},
   "outputs": [
    {
     "name": "stdout",
     "output_type": "stream",
     "text": [
      "int32\n",
      "float64\n"
     ]
    }
   ],
   "source": [
    "#se nei valori non metto i punti l'array è intero\n",
    "print(array_2d.dtype)\n",
    "#se i valori hanno i punti l'array è di tipo float\n",
    "print(array_2d_casuale.dtype)"
   ]
  },
  {
   "cell_type": "code",
   "execution_count": 30,
   "id": "f7a03142",
   "metadata": {},
   "outputs": [
    {
     "name": "stdout",
     "output_type": "stream",
     "text": [
      "[[0.43768892 0.59635573]\n",
      " [0.3878923  0.13217379]\n",
      " [0.25623372 0.40328125]\n",
      " [0.87969011 0.97521979]\n",
      " [0.45496414 0.99698636]\n",
      " [0.70370753 0.29494745]\n",
      " [0.62431606 0.89750654]\n",
      " [0.4643963  0.20865762]]\n",
      "[[0.43768892 0.59635573]\n",
      " [0.3878923  0.13217379]\n",
      " [0.25623372 0.40328125]\n",
      " [0.87969011 0.97521979]\n",
      " [0.45496414 0.99698636]\n",
      " [0.70370753 0.29494745]\n",
      " [0.62431606 0.89750654]\n",
      " [0.4643963  0.20865762]]\n",
      "[[0.43768892 0.59635573]\n",
      " [0.3878923  0.13217379]\n",
      " [0.25623372 0.40328125]\n",
      " [0.87969011 0.97521979]\n",
      " [0.45496414 0.99698636]\n",
      " [0.70370753 0.29494745]\n",
      " [0.62431606 0.89750654]\n",
      " [0.4643963  0.20865762]]\n"
     ]
    }
   ],
   "source": [
    "#stampa il valore dell'array nella prima riga e prima colonna\n",
    "array_2d_casuale[0,0]\n",
    "print(array_2d_casuale)\n",
    "#stampo la prima colonna\n",
    "array_2d_casuale[:,0]\n",
    "print(array_2d_casuale)\n",
    "#tutto l'array\n",
    "array_2d_casuale[:,:]\n",
    "print(array_2d_casuale)"
   ]
  },
  {
   "cell_type": "code",
   "execution_count": 34,
   "id": "52d6d69b",
   "metadata": {},
   "outputs": [
    {
     "data": {
      "text/plain": [
       "array([[0.2609937 , 0.59795247],\n",
       "       [0.37122441, 0.96641288],\n",
       "       [0.72260602, 0.15575193]])"
      ]
     },
     "execution_count": 34,
     "metadata": {},
     "output_type": "execute_result"
    }
   ],
   "source": [
    "# blocco\n",
    "# simile allo slicing di python; stampo dalla riga 2 alla riga 5 esclusa\n",
    "array_2d_casuale[2:5,:]\n",
    "print(array_2d_casuale)"
   ]
  },
  {
   "cell_type": "code",
   "execution_count": 35,
   "id": "7f6a8d03",
   "metadata": {},
   "outputs": [
    {
     "name": "stdout",
     "output_type": "stream",
     "text": [
      "[[0.37444191 0.04178586]\n",
      " [0.66658372 0.34228358]\n",
      " [1.         1.        ]\n",
      " [1.         1.        ]\n",
      " [1.         1.        ]\n",
      " [0.8071636  0.84820992]\n",
      " [0.47740203 0.42050228]\n",
      " [0.45442559 0.74767239]]\n"
     ]
    }
   ],
   "source": [
    "#lo slicing si può acneh usare per assegnare\n",
    "#sostituisco 1. in tutti gli elementi di quel blocco\n",
    "array_2d_casuale[2:5,:] = 1.\n",
    "print(array_2d_casuale)"
   ]
  },
  {
   "cell_type": "code",
   "execution_count": null,
   "id": "585ee14f",
   "metadata": {},
   "outputs": [],
   "source": []
  }
 ],
 "metadata": {
  "kernelspec": {
   "display_name": "Python 3 (ipykernel)",
   "language": "python",
   "name": "python3"
  },
  "language_info": {
   "codemirror_mode": {
    "name": "ipython",
    "version": 3
   },
   "file_extension": ".py",
   "mimetype": "text/x-python",
   "name": "python",
   "nbconvert_exporter": "python",
   "pygments_lexer": "ipython3",
   "version": "3.9.12"
  }
 },
 "nbformat": 4,
 "nbformat_minor": 5
}
