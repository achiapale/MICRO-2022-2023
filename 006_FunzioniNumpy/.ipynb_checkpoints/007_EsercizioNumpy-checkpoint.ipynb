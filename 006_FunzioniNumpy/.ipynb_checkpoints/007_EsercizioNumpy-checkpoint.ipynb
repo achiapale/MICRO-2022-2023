{
 "cells": [
  {
   "cell_type": "markdown",
   "id": "a53789de",
   "metadata": {},
   "source": [
    "# ESERCIZIO CON LE FUNZIONI NUMPY"
   ]
  },
  {
   "cell_type": "markdown",
   "id": "eea9e570",
   "metadata": {},
   "source": [
    "## creare un array 1dim del tipo [0, 1, 0, 1, 0...]"
   ]
  },
  {
   "cell_type": "code",
   "execution_count": 2,
   "id": "22dfcaf0",
   "metadata": {},
   "outputs": [],
   "source": [
    "import numpy as np"
   ]
  },
  {
   "cell_type": "code",
   "execution_count": 6,
   "id": "e49125e6",
   "metadata": {},
   "outputs": [
    {
     "data": {
      "text/plain": [
       "array([0, 0, 0, 0, 0, 0, 0, 0, 0, 0], dtype=int8)"
      ]
     },
     "execution_count": 6,
     "metadata": {},
     "output_type": "execute_result"
    }
   ],
   "source": [
    "n = 10\n",
    "array_1d = np.zeros(n, dtype = np.int8)\n",
    "array_1d"
   ]
  },
  {
   "cell_type": "code",
   "execution_count": 7,
   "id": "3a6d68fd",
   "metadata": {},
   "outputs": [
    {
     "data": {
      "text/plain": [
       "array([1, 0, 1, 0, 1, 0, 1, 0, 1, 0], dtype=int8)"
      ]
     },
     "execution_count": 7,
     "metadata": {},
     "output_type": "execute_result"
    }
   ],
   "source": [
    "array_1d[::2] = 1\n",
    "array_1d"
   ]
  }
 ],
 "metadata": {
  "kernelspec": {
   "display_name": "Python 3 (ipykernel)",
   "language": "python",
   "name": "python3"
  },
  "language_info": {
   "codemirror_mode": {
    "name": "ipython",
    "version": 3
   },
   "file_extension": ".py",
   "mimetype": "text/x-python",
   "name": "python",
   "nbconvert_exporter": "python",
   "pygments_lexer": "ipython3",
   "version": "3.9.12"
  }
 },
 "nbformat": 4,
 "nbformat_minor": 5
}
