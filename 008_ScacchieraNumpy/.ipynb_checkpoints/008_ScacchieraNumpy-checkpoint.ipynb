{
 "cells": [
  {
   "cell_type": "markdown",
   "id": "8e44c326",
   "metadata": {},
   "source": [
    "# ESERCIZIO IN NUMPY\n",
    "## creare una scacchiera di interni con valori a 0 e 1 alternati"
   ]
  },
  {
   "cell_type": "code",
   "execution_count": 1,
   "id": "058b5ca5",
   "metadata": {},
   "outputs": [],
   "source": [
    "import numpy as np"
   ]
  },
  {
   "cell_type": "code",
   "execution_count": 5,
   "id": "5a17bc47",
   "metadata": {},
   "outputs": [
    {
     "data": {
      "text/plain": [
       "array([1, 0, 1, 0, 1, 0, 1, 0, 1, 0], dtype=int8)"
      ]
     },
     "execution_count": 5,
     "metadata": {},
     "output_type": "execute_result"
    }
   ],
   "source": [
    "r = 10\n",
    "\n",
    "array_2d = np.zeros(r, dtype = np.int8)\n",
    "array_2d[::2] = 1\n",
    "array_2d"
   ]
  },
  {
   "cell_type": "code",
   "execution_count": null,
   "id": "527cee64",
   "metadata": {},
   "outputs": [],
   "source": [
    "array_2d = np.r"
   ]
  }
 ],
 "metadata": {
  "kernelspec": {
   "display_name": "Python 3 (ipykernel)",
   "language": "python",
   "name": "python3"
  },
  "language_info": {
   "codemirror_mode": {
    "name": "ipython",
    "version": 3
   },
   "file_extension": ".py",
   "mimetype": "text/x-python",
   "name": "python",
   "nbconvert_exporter": "python",
   "pygments_lexer": "ipython3",
   "version": "3.9.12"
  }
 },
 "nbformat": 4,
 "nbformat_minor": 5
}
